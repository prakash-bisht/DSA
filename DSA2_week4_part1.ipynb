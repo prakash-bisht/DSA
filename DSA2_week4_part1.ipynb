{
  "nbformat": 4,
  "nbformat_minor": 0,
  "metadata": {
    "colab": {
      "provenance": [],
      "authorship_tag": "ABX9TyNwWJQjugkcZQfMosFKsFd5",
      "include_colab_link": true
    },
    "kernelspec": {
      "name": "python3",
      "display_name": "Python 3"
    },
    "language_info": {
      "name": "python"
    }
  },
  "cells": [
    {
      "cell_type": "markdown",
      "metadata": {
        "id": "view-in-github",
        "colab_type": "text"
      },
      "source": [
        "<a href=\"https://colab.research.google.com/github/prakash-bisht/DSA/blob/main/DSA2_week4_part1.ipynb\" target=\"_parent\"><img src=\"https://colab.research.google.com/assets/colab-badge.svg\" alt=\"Open In Colab\"/></a>"
      ]
    },
    {
      "cell_type": "code",
      "source": [
        "\"\"\"Task. \n",
        "You are given a rooted binary tree. Build and output its in-order, pre-order and post-order traversals.\n",
        "\n",
        "Input Format. \n",
        "The first line contains the number of vertices 𝑛. The vertices of the tree are numbered\n",
        "from 0 to 𝑛 − 1. Vertex 0 is the root.\n",
        "The next 𝑛 lines contain information about vertices 0, 1, ..., 𝑛−1 in order. Each of these lines contains\n",
        "three integers 𝑘𝑒𝑦𝑖\n",
        ", 𝑙𝑒𝑓 𝑡𝑖 and 𝑟𝑖𝑔𝑕𝑡𝑖 — 𝑘𝑒𝑦𝑖\n",
        "is the key of the 𝑖-th vertex, 𝑙𝑒𝑓 𝑡𝑖\n",
        "is the index of the left\n",
        "child of the 𝑖-th vertex, and 𝑟𝑖𝑔𝑕𝑡𝑖\n",
        "is the index of the right child of the 𝑖-th vertex. If 𝑖 doesn’t have\n",
        "left or right child (or both), the corresponding 𝑙𝑒𝑓 𝑡𝑖 or 𝑟𝑖𝑔𝑕𝑡𝑖 (or both) will be equal to −1.\n",
        "\n",
        "Output Format. \n",
        "Print three lines. The first line should contain the keys of the vertices in the in-order\n",
        "traversal of the tree. The second line should contain the keys of the vertices in the pre-order traversal\n",
        "of the tree. The third line should contain the keys of the vertices in the post-order traversal of the tree.\n",
        "\n",
        "Sample 1.\n",
        "Input:\n",
        "5\n",
        "4 1 2\n",
        "2 3 4\n",
        "5 -1 -1\n",
        "1 -1 -1\n",
        "3 -1 -1\n",
        "Output:\n",
        "1 2 3 4 5\n",
        "4 2 1 3 5\n",
        "1 3 2 5 4\"\"\""
      ],
      "metadata": {
        "id": "_1Sa7lEmkX7H"
      },
      "execution_count": null,
      "outputs": []
    },
    {
      "cell_type": "code",
      "source": [
        "import sys \n",
        "class treeorder:\n",
        "  def read(self):\n",
        "    self.n = int(sys.stdin.readline())\n",
        "    self.key = [0 for i in range(self.n)]\n",
        "    self.right = [0 for i in range(self.n)]\n",
        "    self.left = [0 for i in range(self.n)]\n",
        "    for i in range(self.n):\n",
        "      [a,b,c] = int(sys.stdin.readline().split())\n",
        "      self.key[i] = a\n",
        "      self.left[i] = b\n",
        "      self.right[i] = c\n",
        "  \n",
        "  def inorder(self,root):\n",
        "    if root == -1:\n",
        "      return []\n",
        "    self.inorder(self.left[root])\n",
        "    print(self.key[root],end=' ')\n",
        "    self.inorder(self.right[root])\n",
        "\n",
        "  def preorder(self,root):\n",
        "    if root == -1:\n",
        "      return []\n",
        "    print(self.key[root],end=' ')\n",
        "    self.preorder(self.left[root])\n",
        "    self.preorder(self.right[root])\n",
        "\n",
        "  def postorder(self,root):\n",
        "    if root == -1:\n",
        "      return []\n",
        "    self.postorder(self.left[root])\n",
        "    self.postorder(self.right[root])\n",
        "    print(self.key[root],end=' ')\n",
        "\n",
        "def main():\n",
        "  tree = treeorder()\n",
        "  tree.read()\n",
        "  tree.inorder(0)\n",
        "  print()\n",
        "  tree.preorder(0)\n",
        "  print()\n",
        "  tree.postorder(0)\n",
        "  print()\n",
        "main()"
      ],
      "metadata": {
        "id": "O9yTMQVIJUpa"
      },
      "execution_count": null,
      "outputs": []
    },
    {
      "cell_type": "code",
      "source": [
        "\"\"\"\n",
        "Task. You are given a binary tree with integers as its keys. You need to test whether it is a correct binary\n",
        "search tree\n",
        "\n",
        "Input Format. The first line contains the number of vertices 𝑛. The vertices of the tree are numbered\n",
        "from 0 to 𝑛 − 1. Vertex 0 is the root.\n",
        "\n",
        "Output Format. If the given binary tree is a correct binary search tree (see the definition in the problem\n",
        "description), output one word “CORRECT” (without quotes). Otherwise, output one word “INCORRECT” (without quotes).\n",
        "\n",
        "Sample 1.\n",
        "\n",
        "Input:\n",
        "3\n",
        "2 1 2\n",
        "1 -1 -1\n",
        "3 -1 -1\n",
        "\n",
        "Output:\n",
        "CORRECT\n",
        "\"\"\"\n"
      ],
      "metadata": {
        "id": "g1Qz97N8JUsQ"
      },
      "execution_count": null,
      "outputs": []
    },
    {
      "cell_type": "code",
      "source": [
        "import sys, threading\n",
        "\n",
        "sys.setrecursionlimit(10**7) \n",
        "threading.stack_size(2**25)  \n",
        "\n",
        "class Node:\n",
        "    def __init__(self, a, b, c):\n",
        "        self.key = a\n",
        "        self.left = b\n",
        "        self.right = c\n",
        "\n",
        "\n",
        "def inOrder(tree):\n",
        "    stack = []\n",
        "    result = []\n",
        "    curr = 0\n",
        "    while stack or curr != -1:\n",
        "        if curr != -1:\n",
        "            root = tree[curr]\n",
        "            stack.append(root)\n",
        "            curr = root.left\n",
        "        else:\n",
        "            root = stack.pop()\n",
        "            result.append(root.key)\n",
        "            curr = root.right\n",
        "    return result\n",
        "\n",
        "\n",
        "def IsBinarySearchTree(tree, n):\n",
        "    nodes = inOrder(tree)\n",
        "    for i in range(1, n):\n",
        "        if nodes[i] <= nodes[i - 1]:\n",
        "            return False\n",
        "    return True\n",
        "\n",
        "def main():\n",
        "    n_nodes = int(input())\n",
        "    nodes = [0 for _ in range(n_nodes)]\n",
        "    for i in range(n_nodes):\n",
        "        a, b, c = map(int, input().split())\n",
        "        node = Node(a, b, c)\n",
        "        nodes[i] = node\n",
        "    if n_nodes == 0 or IsBinarySearchTree(nodes, n_nodes):\n",
        "        print('CORRECT')\n",
        "    else:\n",
        "        print('INCORRECT')\n",
        "\n",
        "threading.Thread(target=main).start()"
      ],
      "metadata": {
        "id": "Bjz2vM8SJUu-"
      },
      "execution_count": null,
      "outputs": []
    }
  ]
}