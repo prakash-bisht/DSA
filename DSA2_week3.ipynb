{
  "nbformat": 4,
  "nbformat_minor": 0,
  "metadata": {
    "colab": {
      "provenance": [],
      "collapsed_sections": [],
      "authorship_tag": "ABX9TyOJQnvwo5Y/ACEEj5ex74VM",
      "include_colab_link": true
    },
    "kernelspec": {
      "name": "python3",
      "display_name": "Python 3"
    },
    "language_info": {
      "name": "python"
    }
  },
  "cells": [
    {
      "cell_type": "markdown",
      "metadata": {
        "id": "view-in-github",
        "colab_type": "text"
      },
      "source": [
        "<a href=\"https://colab.research.google.com/github/prakash-bisht/DSA/blob/main/DSA2_week3.ipynb\" target=\"_parent\"><img src=\"https://colab.research.google.com/assets/colab-badge.svg\" alt=\"Open In Colab\"/></a>"
      ]
    },
    {
      "cell_type": "code",
      "execution_count": null,
      "metadata": {
        "id": "oTpXBDb3zO04"
      },
      "outputs": [],
      "source": [
        "\"\"\"\n",
        "Input Format. There is a single integer 𝑁 in the first line — the number of queries. It’s followed by 𝑁\n",
        "lines, each of them contains one query in the format described above.\n",
        "\n",
        "Constraints. 1 ≤ 𝑁 ≤ 105 . All phone numbers consist of decimal digits, they don’t have leading zeros, and\n",
        "each of them has no more than 7 digits. All names are non-empty strings of latin letters, and each of\n",
        "them has length at most 15. It’s guaranteed that there is no person with name “not found\".\n",
        "\n",
        "Output Format. Print the result of each find query — the name corresponding to the phone number or\n",
        "“not found\" (without quotes) if there is no person in the phone book with such phone number. Output\n",
        "one result per line in the same order as the find queries are given in the input.\n",
        "\n",
        "Sample 1.\n",
        "\n",
        "Input:\n",
        "8\n",
        "find 3839442\n",
        "add 123456 me\n",
        "add 0 granny\n",
        "find 0\n",
        "find 123456\n",
        "del 0\n",
        "del 0\n",
        "find 0\n",
        "\n",
        "Output:\n",
        "not found\n",
        "granny\n",
        "me\n",
        "not found\n",
        "\"\"\""
      ]
    },
    {
      "cell_type": "code",
      "source": [
        "class Query:\n",
        "    def __init__(self, query):\n",
        "        self.type = query[0]\n",
        "        self.number = query[1]\n",
        "        if self.type == \"add\":\n",
        "            self.name = query[2]\n",
        "\n",
        "def ProcessQuery(query, contacts):\n",
        "    if query.type == \"add\":\n",
        "        contacts[query.number] = query.name\n",
        "    elif query.type == \"del\":\n",
        "        if contacts.__contains__(query.number):\n",
        "            del contacts[query.number]\n",
        "    else:\n",
        "        response = 'not found'\n",
        "        if contacts.__contains__(query.number):\n",
        "            response = contacts[query.number]\n",
        "        return response\n",
        "\n",
        "n_queries = int(input())\n",
        "contacts = {}\n",
        "for _ in range(n_queries):\n",
        "    query = Query(input().split())\n",
        "    result = ProcessQuery(query, contacts)\n",
        "    if result:\n",
        "        print(result)"
      ],
      "metadata": {
        "id": "3F1Cu889zc8z",
        "colab": {
          "base_uri": "https://localhost:8080/"
        },
        "outputId": "6d6b5e61-b66f-4d1d-f5ee-400494a083c5"
      },
      "execution_count": null,
      "outputs": [
        {
          "output_type": "stream",
          "name": "stdout",
          "text": [
            "2\n",
            "add 2 me\n",
            "find 2\n",
            "me\n"
          ]
        }
      ]
    },
    {
      "cell_type": "code",
      "source": [
        "from IPython.display import Image\n",
        "Image(filename='Screenshot from 2022-09-11 22-18-16.png')"
      ],
      "metadata": {
        "colab": {
          "base_uri": "https://localhost:8080/",
          "height": 153
        },
        "id": "3cCGKoV4dAZP",
        "outputId": "98be8be6-c2ac-46b2-9557-2760266e088f"
      },
      "execution_count": null,
      "outputs": [
        {
          "output_type": "execute_result",
          "data": {
            "image/png": "[encoded data removed]",
            "text/plain": [
              "<IPython.core.display.Image object>"
            ]
          },
          "metadata": {},
          "execution_count": 1
        }
      ]
    },
    {
      "cell_type": "code",
      "source": [
        "\"\"\"Input Format. There is a single integer 𝑚 in the first line — the number of buckets you should have. The\n",
        "next line contains the number of queries 𝑁. It’s followed by 𝑁 lines, each of them contains one query\n",
        "in the format described above.\n",
        "\n",
        "Constraints. 1 ≤ 𝑁 ≤ 105;𝑁/5 ≤ 𝑚 ≤ 𝑁. All the strings consist of latin letters. Each of them is non-empty\n",
        "and has length at most 15.\n",
        "\n",
        "Output Format. Print the result of each of the find and check queries, one result per line, in the same\n",
        "order as these queries are given in the input.\n",
        "\n",
        "\n",
        "Sample 1.\n",
        "\n",
        "Input:\n",
        "5\n",
        "12\n",
        "add world\n",
        "add HellO\n",
        "check 4\n",
        "find World\n",
        "find world\n",
        "del world\n",
        "check 4\n",
        "del HellO\n",
        "add luck\n",
        "add GooD\n",
        "check 2\n",
        "del good\n",
        "\n",
        "Output:\n",
        "HellO world\n",
        "no\n",
        "yes\n",
        "HellO\n",
        "GooD luck\"\"\"\n",
        "\n",
        "\"\"\"The ASCII code of ’w’ is 119, for ’o’ it is 111, for ’r’ it is 114, for ’l’ it is 108, and for ’d’\n",
        "it is 100. Thus, 𝑕(“world\") = (119 + 111 × 263 + 114 × 263**2 + 108 × 263**3 + 100 × 263**4 mod\n",
        "1 000 000 007) mod 5 = 4. It turns out that the hash value of 𝐻𝑒𝑙𝑙𝑂 is also 4. Recall that we always insert in the beginning of the chain, \n",
        "so after adding “world\" and then “HellO\" in the same\n",
        "chain index 4, first goes “HellO\" and then goes “world\". Of course, “World\" is not found, and\n",
        "“world\" is found, because the strings are case-sensitive, and the codes of ’W’ and ’w’ are different. After deleting “world\",\n",
        " only “HellO\" is found in the chain 4. Similarly to “world\" and “HellO\",\n",
        "after adding “luck\" and “GooD\" to the same chain 2, first goes “GooD\" and then “luck\".\"\"\""
      ],
      "metadata": {
        "id": "HJatzSIjzdEU"
      },
      "execution_count": null,
      "outputs": []
    },
    {
      "cell_type": "code",
      "source": [
        "from collections import deque \n",
        "\n",
        "class Query:\n",
        "  def __init__(self,query):\n",
        "    self.type = query[0]\n",
        "    if self.type == 'check':\n",
        "      self.index = int(query[1])\n",
        "    else:\n",
        "      self.word = query[1]\n",
        "  \n",
        "class Queryprocessor:\n",
        "    _multiplier = 263\n",
        "    _prime = 1000000007\n",
        "\n",
        "    def __init__(self,bucket_count):\n",
        "      self.bucket_count = bucket_count \n",
        "      self.hash_table = list(deque() for _ in range(self.bucket_count))\n",
        "\n",
        "    def hashfunction(self,word):\n",
        "      hash_value = 0\n",
        "      for char in reversed(word):\n",
        "        hash_value = (hash_value * self._multiplier + ord(char)) % self._prime  \n",
        "      return hash_value % self.bucket_count\n",
        "\n",
        "    def processquery(self,query):\n",
        "      if query.type == 'check':\n",
        "        if self.hash_table[query.index]:\n",
        "          print(' '.join(self.hash_table[query.index]))\n",
        "        else:\n",
        "          print()\n",
        "      else:\n",
        "        hash_value = self.hashfunction(query.word)\n",
        "        if query.type == 'add':\n",
        "          if query.word not in self.hash_table[hash_value]:\n",
        "            self.hash_table[hash_value].appendleft(query.word)\n",
        "\n",
        "        elif query.type == 'del':\n",
        "          if query.word in self.hash_table[hash_value]:\n",
        "            self.hash_table[hash_value].remove(query.word)\n",
        "\n",
        "        elif query.type == 'find':\n",
        "          if query.word in self.hash_table[hash_value]:\n",
        "            print('yes')\n",
        "          else:\n",
        "            print('no')\n",
        "\n",
        "if __name__ == \"__main__\":\n",
        "  n_buckets = int(input())\n",
        "  hash_table = Queryprocessor(n_buckets)\n",
        "  n_queries = int(input())\n",
        "  for _ in range(n_queries):\n",
        "    command = Query(input().split())\n",
        "    hash_table.processquery(command)\n"
      ],
      "metadata": {
        "id": "lPUWVkN43pPp",
        "colab": {
          "base_uri": "https://localhost:8080/"
        },
        "outputId": "56bdd345-3d18-4ae4-9d47-07b5846f9bee"
      },
      "execution_count": null,
      "outputs": [
        {
          "output_type": "stream",
          "name": "stdout",
          "text": [
            "5\n",
            "12\n",
            "add world\n",
            "add Hell0\n",
            "check 4\n",
            "Hell0 world\n",
            "find World\n",
            "no\n",
            "find world\n",
            "yes\n",
            "del world \n",
            "check 4\n",
            "Hell0\n",
            "add luck\n",
            "add good\n",
            "check 2\n",
            "luck\n",
            "del good\n",
            "check 2\n",
            "luck\n"
          ]
        }
      ]
    },
    {
      "cell_type": "code",
      "source": [
        "#In this problem, your goal is to implement the Rabin–Karp’s algorithm.\n",
        "\n",
        "\"\"\"Input Format. There are two strings in the input: the pattern 𝑃 and the text 𝑇.\n",
        "\n",
        "Output Format. Print all the positions of the occurrences of 𝑃 in 𝑇 in the ascending order. Use 0-based\n",
        "indexing of positions in the the text 𝑇.\n",
        "\n",
        "Sample 1.\n",
        "\n",
        "Input:\n",
        "aba\n",
        "abacaba\n",
        "\n",
        "Output:\n",
        "0 4\n",
        "\n",
        "Explanation:\n",
        "The pattern 𝑎𝑏𝑎 can be found in positions 0 (abacaba) and 4 (abacaba) of the text 𝑎𝑏𝑎𝑐𝑎𝑏𝑎.\"\"\""
      ],
      "metadata": {
        "id": "_8fyQj30eJVS"
      },
      "execution_count": null,
      "outputs": []
    },
    {
      "cell_type": "code",
      "source": [
        "def polyhash(string,prime,multiplier):\n",
        "  hash_value = 0\n",
        "  for i in range(len(string) -1,-1,-1):\n",
        "    hash_value = (hash_value * multiplier + ord(string[i])) % prime \n",
        "  return hash_value \n",
        "\n",
        "def precomputehash(text,pattern,prime,multiplier):\n",
        "  p = len(pattern)\n",
        "  t = len(text)\n",
        "  s = text[t-p:]\n",
        "  h = list([] for _ in range(t-p+1))\n",
        "  h[t-p] = polyhash(s,prime,multiplier)\n",
        "  y = 1\n",
        "  for i in range(1,p+1):\n",
        "    y = (y * multiplier) % prime\n",
        "  for i in range(t-p-1,-1,-1):\n",
        "    h[i] = (multiplier * h[i+1] + ord(text[i]) - y * ord(text[i + p])) % prime\n",
        "  return h \n",
        "\n",
        "def rabin_karp(text,pattern):\n",
        "  t = len(text)\n",
        "  p = len(pattern)\n",
        "  prime = 1000000007\n",
        "  multiplier = 236\n",
        "  result = []\n",
        "  pattern_hash = polyhash(pattern,prime,multiplier)\n",
        "  hash_substring = precomputehash(text,pattern,prime,multiplier)\n",
        "  for i in range(t-p+1):\n",
        "    if pattern_hash == hash_substring[i]:\n",
        "      result.append(i)\n",
        "  return result \n",
        "\n",
        "\n",
        "if __name__ == '__main__':\n",
        "  pattern = input()\n",
        "  text = input()\n",
        "  position = rabin_karp(text,pattern)\n",
        "  for pos in position:\n",
        "    print(pos,end=' ')"
      ],
      "metadata": {
        "id": "jWJvxJ8weJd5",
        "colab": {
          "base_uri": "https://localhost:8080/"
        },
        "outputId": "0d589cd6-92e5-4cb0-e523-0344759e3db8"
      },
      "execution_count": null,
      "outputs": [
        {
          "output_type": "stream",
          "name": "stdout",
          "text": [
            "aba\n",
            "abacaba\n",
            "0 4 "
          ]
        }
      ]
    },
    {
      "cell_type": "code",
      "source": [
        "\"\"\"Input Format. The first line contains a string 𝑠 consisting of small Latin letters. The second line contains\n",
        "the number of queries 𝑞. Each of the next 𝑞 lines specifies a query by three integers 𝑎, 𝑏, and 𝑙.\n",
        "\n",
        "Output Format. For each query, output “Yes” if 𝑠𝑎𝑠𝑎+1. . .𝑠𝑎+𝑙−1 = 𝑠𝑏𝑠𝑏+1. . .𝑠𝑏+𝑙−1 are equal, and “No”\n",
        "otherwise.\n",
        "\n",
        "Sample 1.\n",
        "\n",
        "Input:\n",
        "trololo\n",
        "4\n",
        "0 0 7\n",
        "2 4 3\n",
        "3 5 1\n",
        "1 3 2\n",
        "\n",
        "Output:\n",
        "Yes\n",
        "Yes\n",
        "Yes\n",
        "No\n",
        "\n",
        "0 0 7 → trololo = trololo\n",
        "2 4 3 → trololo = trololo\n",
        "3 5 1 → trololo = trololo\n",
        "1 3 2 → trololo != trololo\"\"\"\n",
        "\n",
        "#However, if the hash values are the same, it is still possible that the substrings are different — this is called a collision. \n",
        "#To further reduce the probability of a collision, one may take two different modulus"
      ],
      "metadata": {
        "id": "yxgMOTrw3pa2"
      },
      "execution_count": null,
      "outputs": []
    },
    {
      "cell_type": "code",
      "source": [
        "def hashtable(string,prime,x):\n",
        "  hash_table = list([] for _ in range(len(string)+1))\n",
        "  hash_table[0] = 0\n",
        "  for i in range(1,len(string)+1):\n",
        "    hash_table[i] = (hash_table[i-1] * x + ord(string[i-1])) % prime\n",
        "  return hash_table \n",
        "\n",
        "def hashvalue(hash_table,prime,x,start,length):\n",
        "  y = pow(x,length,prime)\n",
        "  hash_value = (hash_table[start+length] - y * hash_table[start]) % prime\n",
        "  return hash_value \n",
        "\n",
        "def are_equal(table1,table2,prime1,prime2,x,a,b,l):\n",
        "  a_hash1 = hashvalue(table1,prime1,x,a,l)\n",
        "  b_hash1 = hashvalue(table1,prime1,x,b,l)\n",
        "  a_hash2 = hashvalue(table2,prime2,x,a,l)\n",
        "  b_hash2 = hashvalue(table2,prime2,x,b,l)\n",
        "  if a_hash1 == b_hash1 and a_hash2 == b_hash2:\n",
        "    return 'yes'\n",
        "  else:\n",
        "    return 'no'\n",
        "\n",
        "if __name__ == \"__main__\":\n",
        "  string = input()\n",
        "  n_queries = int(input())\n",
        "  m = 1000000007\n",
        "  m2 = 1000000009\n",
        "  x = 263\n",
        "  hash_table1 = hashtable(string,m,x)\n",
        "  hash_table2 = hashtable(string,m2,x)\n",
        "  for i in range(n_queries):\n",
        "    a,b,l = map(int,input().split())\n",
        "    print(are_equal(hash_table1,hash_table2,m,m2,x,a,b,l))"
      ],
      "metadata": {
        "id": "vfh_oei13plN",
        "colab": {
          "base_uri": "https://localhost:8080/"
        },
        "outputId": "0607718c-82d9-4c0b-8003-b48d89f14a32"
      },
      "execution_count": null,
      "outputs": [
        {
          "output_type": "stream",
          "name": "stdout",
          "text": [
            "trololo\n",
            "4\n",
            "0 0 7\n",
            "yes\n",
            "2 4 3\n",
            "yes\n",
            "3 5 1\n",
            "yes\n",
            "1 3 2\n",
            "no\n"
          ]
        }
      ]
    },
    {
      "cell_type": "code",
      "source": [
        "\"\"\"Input Format. Every line of the input contains two strings 𝑠 and 𝑡 consisting of lower case Latin letters.\n",
        "\n",
        "Output Format. For each pair of strings 𝑠 and 𝑡𝑖\n",
        ", find its longest common substring and specify it by\n",
        "outputting three integers: its starting position in 𝑠, its starting position in 𝑡 (both 0-based), and its\n",
        "length. More formally, output integers 0 ≤ 𝑖 < |𝑠|, 0 ≤ 𝑗 < |𝑡|, and 𝑙 ≥ 0 such that 𝑠𝑖𝑠𝑖+1 · · · 𝑠𝑖+𝑙−1 =\n",
        "𝑡𝑗 𝑡𝑗+1 · · ·𝑡𝑗+𝑙−1 and 𝑙 is maximal. (As usual, if there are many such triples with maximal 𝑙, output any\n",
        "of them.)\n",
        "\n",
        "Sample 1.\n",
        "\n",
        "Input:\n",
        "\n",
        "cool toolbox\n",
        "aaa bb\n",
        "aabaa babbaab\n",
        "\n",
        "Output:\n",
        "1 1 3\n",
        "0 1 0\n",
        "0 4 3\n",
        "\n",
        "Explanation:\n",
        "The longest common substring of the first pair of strings is ool, it starts at the first position in toolbox\n",
        "and at the first position in cool. The strings from the second line do not share any non-empty common\n",
        "substrings (in this case, 𝑙 = 0 and one may output any indices 𝑖 and 𝑗). Finally, the last two strings\n",
        "share a substring aab that has length 3 and starts at position 0 in the first string and at position 4 in\n",
        "the second one. Note that for this pair of string one may output 2 3 3 as well.\"\"\""
      ],
      "metadata": {
        "id": "-SpJXuPs3p6s"
      },
      "execution_count": null,
      "outputs": []
    },
    {
      "cell_type": "code",
      "source": [
        "def polyhash(s,prime,multiplier):\n",
        "  hash_value = 0 \n",
        "  for i in range(len(s)-1,-1,-1):\n",
        "    hash_value = (hash_value * multiplier + ord(s[i])) % prime\n",
        "  return hash_value \n",
        "\n",
        "def hashtable(s,p_len,prime,multiplier):\n",
        "  h = list([] for _ in range(len(s)-p_len + 1))\n",
        "  substring = s[len(s)-p_len:]\n",
        "  h[len(s)-p_len] = polyhash(substring,prime,multiplier)\n",
        "  y = pow(multiplier,p_len,prime)\n",
        "  for i in range(len(s)-p_len-1,-1,-1):\n",
        "    h[i] = (multiplier * h[i+1] + ord(s[i]) - y * ord(s[i+p_len])) % prime  \n",
        "  return h \n",
        "\n",
        "def hashdict(s,p_len,prime,multiplier):\n",
        "  d = {}\n",
        "  substring = s[len(s)-p_len:]\n",
        "  last = polyhash(substring,prime,multiplier)\n",
        "  d[last] = len(s) - p_len\n",
        "  y = pow(multiplier,p_len,prime)\n",
        "  for i in range(len(s)-p_len-1,-1,-1):\n",
        "    current = (multiplier * last + ord(s[i]) - y * ord(s[i+p_len])) % prime  \n",
        "    d[current] = i\n",
        "    last = current \n",
        "  return d\n",
        "\n",
        "def searchstring(hash_table,hash_dict): \n",
        "  check = False \n",
        "  matches = {}\n",
        "  for i in range(len(hash_table)):\n",
        "    b_start = hash_dict.get(hash_table[i],-1)\n",
        "    if b_start != -1:\n",
        "      check = True \n",
        "      matches[i] = b_start \n",
        "  return check,matches \n",
        "\n",
        "def maxlength(string_a,string_b,low,high,max_length,astart,bstart):\n",
        "  mid = (low + high) // 2 \n",
        "  if low > high:\n",
        "    return astart,bstart,max_length\n",
        "  prime1 = 1000000007\n",
        "  prime2 = 1000004249\n",
        "  x = 263\n",
        "  ahash1 = hashtable(string_a,mid,prime1,x)\n",
        "  ahash2 = hashtable(string_a,mid,prime2,x)\n",
        "  bhash1 = hashdict(string_b,mid,prime1,x)\n",
        "  bhash2 = hashdict(string_b,mid,prime2,x)\n",
        "  check1,matches1 = searchstring(ahash1,bhash1)\n",
        "  check2,matches2 = searchstring(ahash2,bhash2)\n",
        "  if check1 and check2:\n",
        "    for a,b in matches1.items():\n",
        "      temp = matches2.get(a,-1)\n",
        "      if temp != -1:\n",
        "        max_length = mid \n",
        "        astart,bstart = a,b\n",
        "        del ahash1,ahash2,bhash1,bhash2,matches1,matches2\n",
        "        return maxlength(string_a,string_b,mid+1,high,max_length,astart,bstart)\n",
        "  return maxlength(string_a,string_b,low,mid-1,max_length,astart,bstart)\n",
        "\n",
        "while True:\n",
        "  line = input()\n",
        "  if line == '':\n",
        "    break \n",
        "  else:\n",
        "    s,t = line.split()\n",
        "    k = min(len(s),len(t))\n",
        "    if len(s) <= len(t):\n",
        "      short_string,long_string = s,t\n",
        "    else:\n",
        "      short_string,long_string = t,s\n",
        "    l,i,j = maxlength(long_string,short_string,0,k,0,0,0)\n",
        "    if len(s) <= len(t):\n",
        "      print(i,l,j)\n",
        "    else:\n",
        "      print(l,i,j)\n",
        "    "
      ],
      "metadata": {
        "id": "rsNwIZABaayU",
        "colab": {
          "base_uri": "https://localhost:8080/"
        },
        "outputId": "7d3c71ca-bccb-4dd5-cefa-bcc48272d9ce"
      },
      "execution_count": 8,
      "outputs": [
        {
          "name": "stdout",
          "output_type": "stream",
          "text": [
            "cool toolbox\n",
            "1 1 3\n",
            "aaa bb\n",
            "0 0 0\n",
            "aabaa babbaab\n",
            "2 3 3\n",
            "\n"
          ]
        }
      ]
    }
  ]
}