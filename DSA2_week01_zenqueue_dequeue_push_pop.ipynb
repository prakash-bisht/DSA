{
  "nbformat": 4,
  "nbformat_minor": 0,
  "metadata": {
    "colab": {
      "provenance": []
    },
    "kernelspec": {
      "name": "python3",
      "display_name": "Python 3"
    },
    "language_info": {
      "name": "python"
    }
  },
  "cells": [
    {
      "cell_type": "code",
      "execution_count": 9,
      "metadata": {
        "colab": {
          "base_uri": "https://localhost:8080/"
        },
        "id": "P6b2HQAK-9vf",
        "outputId": "9239365a-e7a1-4df2-9ef4-f57c2df3c961"
      },
      "outputs": [
        {
          "output_type": "stream",
          "name": "stdout",
          "text": [
            "\n",
            "20 30 40 50 \n",
            "Queue size is full\n",
            "20 30 40 50 \n",
            "2 node deletion\n",
            "40 50 \n",
            "1 node insertion\n",
            "40 50 90 \n",
            "top front element:  {40}\n"
          ]
        }
      ],
      "source": [
        "# Implementation of a queue using an array\n",
        "class Queue:\n",
        "  def __init__(self,capacity):\n",
        "    self.front = 0\n",
        "    self.rear = -1\n",
        "    self.size = capacity\n",
        "    self.queue = [None]*capacity\n",
        "\n",
        "  def enqueue(self,data):\n",
        "    if self.rear == self.size -1:\n",
        "      print(\"Queue size is full\")\n",
        "      return\n",
        "    self.rear += 1\n",
        "    self.queue[self.rear] = data\n",
        "\n",
        "  def dequeue(self):\n",
        "    if self.front > self.rear:\n",
        "      print(\"queue is empty\")\n",
        "      return\n",
        "    for i in range(self.rear):\n",
        "      self.queue[i] = self.queue[i+1]\n",
        "    self.rear -= 1\n",
        "\n",
        "  def display(self):\n",
        "    for i in range(self.front,self.rear+1):\n",
        "      print(self.queue[i],end = ' ')\n",
        "    print()\n",
        "\n",
        "  def front_element(self):\n",
        "    if self.rear == -1:\n",
        "      print(\"queue is empty\")\n",
        "      return\n",
        "    print(f\"top front element: \",{self.queue[self.front]})\n",
        "\n",
        "if __name__ == \"__main__\":\n",
        "  q = Queue(4)\n",
        "  q.display()\n",
        "  q.enqueue(20)\n",
        "  q.enqueue(30)\n",
        "  q.enqueue(40)\n",
        "  q.enqueue(50)\n",
        "  q.display()\n",
        "  q.enqueue(60)\n",
        "  q.display()\n",
        "  q.dequeue()\n",
        "  q.dequeue()\n",
        "  print(\"2 node deletion\")\n",
        "  q.display()\n",
        "  print(\"1 node insertion\")\n",
        "  q.enqueue(90)\n",
        "  q.display()\n",
        "  q.front_element()"
      ]
    },
    {
      "cell_type": "code",
      "source": [
        "# Implementation of a queue using linked_list\n",
        "class Node:\n",
        "  def __init__(self,new_data):\n",
        "    self.data = new_data\n",
        "    self.next = None\n",
        "\n",
        "class Queue:\n",
        "  def __init__(self):\n",
        "    self.front = None\n",
        "    self.rear = None\n",
        "\n",
        "  def is_empty(self):\n",
        "    return self.front is None and self.rear is None\n",
        "\n",
        "  def enqueue(self,new_data):\n",
        "    new_node = Node(new_data)\n",
        "\n",
        "    if self.rear is None:\n",
        "      self.front = self.rear = new_node\n",
        "      return\n",
        "\n",
        "    self.rear.next = new_node\n",
        "    self.rear = new_node\n",
        "\n",
        "  def dequeue(self):\n",
        "    if self.is_empty():\n",
        "      print(\"empty queue\")\n",
        "      return\n",
        "\n",
        "    self.front = self.front.next\n",
        "\n",
        "    if self.front is None:\n",
        "      self.rear = None\n",
        "\n",
        "  def get_front(self):\n",
        "    if self.is_empty():\n",
        "      print(\"empty queue\")\n",
        "      return\n",
        "    return self.front.data\n",
        "\n",
        "  def get_rear(self):\n",
        "    if self.is_empty():\n",
        "      print(\"empty queue\")\n",
        "      return\n",
        "    return self.rear.data\n",
        "\n",
        "if __name__ == \"__main__\":\n",
        "    q = Queue()\n",
        "    q.enqueue(1)\n",
        "    q.enqueue(2)\n",
        "\n",
        "    print(\"Queue Front:\", q.get_front())\n",
        "    print(\"Queue Rear:\", q.get_rear())\n",
        "\n",
        "    q.dequeue()\n",
        "    q.dequeue()\n",
        "\n",
        "    q.enqueue(3)\n",
        "    q.enqueue(4)\n",
        "    q.enqueue(5)\n",
        "\n",
        "    q.dequeue()\n",
        "    print(\"Queue Front:\", q.get_front())\n",
        "    print(\"Queue Rear:\", q.get_rear())\n",
        ""
      ],
      "metadata": {
        "colab": {
          "base_uri": "https://localhost:8080/"
        },
        "id": "98PCLRNG_Cr7",
        "outputId": "c6c5f6e8-8da1-4331-e0d4-512efd278905"
      },
      "execution_count": 11,
      "outputs": [
        {
          "output_type": "stream",
          "name": "stdout",
          "text": [
            "Queue Front: 1\n",
            "Queue Rear: 2\n",
            "Queue Front: 4\n",
            "Queue Rear: 5\n"
          ]
        }
      ]
    },
    {
      "cell_type": "code",
      "source": [
        "# Implement of stack using a singly linked list.\n",
        "class Node:\n",
        "  def __init__(self,new_data):\n",
        "    self.data = new_data\n",
        "    self.next = None\n",
        "\n",
        "class Stack:\n",
        "  def __init__(self):\n",
        "    self.head = None\n",
        "\n",
        "  def is_empty(self):\n",
        "    return self.head is None\n",
        "\n",
        "  def push(self,new_data):\n",
        "    new_node = Node(new_data)\n",
        "\n",
        "    if not new_node:\n",
        "      print(\"stack overflow\")\n",
        "      return\n",
        "\n",
        "    new_node.next = self.head\n",
        "    self.head = new_node\n",
        "\n",
        "  def pop(self):\n",
        "    if self.is_empty():\n",
        "      print(\"stack underflow\")\n",
        "\n",
        "    self.head = self.head.next\n",
        "\n",
        "  def peek(self):\n",
        "    if self.is_empty():\n",
        "      print('stack underflow')\n",
        "      return\n",
        "    return self.head.data\n",
        "\n",
        "st = Stack()\n",
        "st.push(11)\n",
        "st.push(22)\n",
        "\n",
        "print(\"Top element is\", st.peek())\n",
        "\n",
        "print(\"Removing two elements...\");\n",
        "st.pop()\n",
        "\n",
        "print(\"Top element is\", st.peek())"
      ],
      "metadata": {
        "colab": {
          "base_uri": "https://localhost:8080/"
        },
        "id": "Bb89jEIR_CvO",
        "outputId": "1192c5d4-8b69-4d2f-a6e7-479164cc143c"
      },
      "execution_count": 24,
      "outputs": [
        {
          "output_type": "stream",
          "name": "stdout",
          "text": [
            "Top element is 22\n",
            "Removing two elements...\n",
            "Top element is 11\n"
          ]
        }
      ]
    }
  ]
}