{
  "nbformat": 4,
  "nbformat_minor": 0,
  "metadata": {
    "colab": {
      "name": "DSA1_week1&2.ipynb",
      "provenance": [],
      "collapsed_sections": [],
      "authorship_tag": "ABX9TyO6FMQFQofzPEEXoSSNVP5I",
      "include_colab_link": true
    },
    "kernelspec": {
      "name": "python3",
      "display_name": "Python 3"
    },
    "language_info": {
      "name": "python"
    }
  },
  "cells": [
    {
      "cell_type": "markdown",
      "metadata": {
        "id": "view-in-github",
        "colab_type": "text"
      },
      "source": [
        "<a href=\"https://colab.research.google.com/github/prakash-noah/DSA/blob/main/DSA1_week1%262.ipynb\" target=\"_parent\"><img src=\"https://colab.research.google.com/assets/colab-badge.svg\" alt=\"Open In Colab\"/></a>"
      ]
    },
    {
      "cell_type": "code",
      "metadata": {
        "id": "2elEljRHA1ED"
      },
      "source": [
        "def sum(num1,num2):\n",
        "  return num1 + num2\n",
        "if __name__ == '__main__':\n",
        "  a,b = map(int,input().split())\n",
        "  print(sum(a,b))"
      ],
      "execution_count": null,
      "outputs": []
    },
    {
      "cell_type": "code",
      "metadata": {
        "id": "t6dVaQOBA6xC"
      },
      "source": [
        "n = int(input())\n",
        "a = [int(x) for x in input().split()]\n",
        "product = 0\n",
        "for i in range(n):\n",
        "  for j in range(i + 1,n):\n",
        "    product = max(product,a[i]*a[j])\n",
        "print(product)"
      ],
      "execution_count": null,
      "outputs": []
    },
    {
      "cell_type": "code",
      "metadata": {
        "id": "g2sHrbNzA61X",
        "colab": {
          "base_uri": "https://localhost:8080/"
        },
        "outputId": "331036d0-0e2f-4631-f62a-4c17ce79b564"
      },
      "source": [
        "def fibo_value(n):\n",
        "  if n <= 1:\n",
        "    return n\n",
        "  return fibo_value(n - 1) + fibo_value(n - 2)\n",
        "n = int(input())\n",
        "print(fibo_value(n))"
      ],
      "execution_count": null,
      "outputs": [
        {
          "output_type": "stream",
          "name": "stdout",
          "text": [
            "7\n",
            "13\n"
          ]
        }
      ]
    },
    {
      "cell_type": "code",
      "metadata": {
        "id": "sPMUaLHtA65s",
        "colab": {
          "base_uri": "https://localhost:8080/"
        },
        "outputId": "f5969067-07d4-461c-cbc4-43b38522510f"
      },
      "source": [
        "def fibonnaci_last_value(n):\n",
        "  if n <= 1:\n",
        "    return n \n",
        "  previous = 0\n",
        "  current = 1\n",
        "  for _ in range(n - 1):\n",
        "    previous,current = current , previous + current\n",
        "  return current % 10 \n",
        "n = int(input())\n",
        "print(fibonnaci_last_value(n))"
      ],
      "execution_count": null,
      "outputs": [
        {
          "output_type": "stream",
          "name": "stdout",
          "text": [
            "331\n",
            "9\n"
          ]
        }
      ]
    },
    {
      "cell_type": "code",
      "metadata": {
        "id": "rE1fdxEFA7Nc"
      },
      "source": [
        "import sys\n",
        "def gcd(a,b):\n",
        "  current_gcd = 1\n",
        "  for d in range(2,min(a,b)+1):\n",
        "    if a % d == 0 and b % d == 0:\n",
        "      if d > current_gcd:\n",
        "        current_gcd = d\n",
        "  return current_gcd\n",
        "if __name__ == '__main__':\n",
        "  input = sys.stdin.read()\n",
        "  a,b = map(int,input.split())\n",
        "  print(gcd(a,b))"
      ],
      "execution_count": null,
      "outputs": []
    },
    {
      "cell_type": "code",
      "metadata": {
        "id": "vTIfSTESA7RS"
      },
      "source": [
        "import sys \n",
        "def lcm(a,b):\n",
        "  for l in range(1,a*b+1):\n",
        "    if l % a == 0 and l % b == 0:\n",
        "      return l \n",
        "  return a * b\n",
        "if __name__ == \"__main__\":\n",
        "  input = sys.stdin.read()\n",
        "  a,b = map(int,input.split())\n",
        "  print(lcm(a,b))"
      ],
      "execution_count": null,
      "outputs": []
    },
    {
      "cell_type": "code",
      "metadata": {
        "id": "9PisVIYCA7U8"
      },
      "source": [
        "import sys \n",
        "def fibonnaci_last_value(n,m):\n",
        "  if n <= 1:\n",
        "    return n \n",
        "  previous = 0\n",
        "  current = 1\n",
        "  for _ in range(n - 1):\n",
        "    previous,current = current , previous + current\n",
        "  return current % m\n",
        "\n",
        "if __name__ == \"__main__\":\n",
        "  input = sys.stdin.read()\n",
        "  n,m = map(int,input.split())\n",
        "  print(fibonnaci_last_value(n,m))"
      ],
      "execution_count": null,
      "outputs": []
    },
    {
      "cell_type": "code",
      "metadata": {
        "id": "EcRxpMGlxKii",
        "colab": {
          "base_uri": "https://localhost:8080/"
        },
        "outputId": "197c51a5-ca57-4f1c-e608-9e4842f52962"
      },
      "source": [
        "import sys \n",
        "def last_value_of_fibo_sum(n):\n",
        "  if n <= 1:\n",
        "    return n \n",
        "  previous = 0\n",
        "  current = 1\n",
        "  sum = 1\n",
        "  for _ in range(n - 1):\n",
        "    previous,current = current,previous + current \n",
        "    sum += current \n",
        "  return sum % 10\n",
        "n = int(input())\n",
        "print(last_value_of_fibo_sum(n))"
      ],
      "execution_count": 1,
      "outputs": [
        {
          "output_type": "stream",
          "name": "stdout",
          "text": [
            "100\n",
            "5\n"
          ]
        }
      ]
    },
    {
      "cell_type": "code",
      "metadata": {
        "id": "rByyi76txKxH"
      },
      "source": [
        "import sys \n",
        "def fibo_partial_sum(from_,to):\n",
        "  sum = 0\n",
        "  current = 0\n",
        "  next = 1\n",
        "  for i in range(to+1):\n",
        "    if i >= from_:\n",
        "      sum += current \n",
        "    current,next = next,current + next\n",
        "  return sum % 10 \n",
        "if __name__ == \"__main__\":\n",
        "  input = sys.stdin.read()\n",
        "  from_,to = map(int,input.split())\n",
        "  print(fibo_partial_sum(from_,to))"
      ],
      "execution_count": null,
      "outputs": []
    },
    {
      "cell_type": "code",
      "metadata": {
        "id": "ALTLPbQpA7nR"
      },
      "source": [
        ""
      ],
      "execution_count": null,
      "outputs": []
    }
  ]
}