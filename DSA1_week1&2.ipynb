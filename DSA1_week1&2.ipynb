{
  "nbformat": 4,
  "nbformat_minor": 0,
  "metadata": {
    "colab": {
      "name": "DSA1_week1&2.ipynb",
      "provenance": [],
      "collapsed_sections": [],
      "authorship_tag": "ABX9TyPBsOT0fekcf+Z+j4+nCxDh",
      "include_colab_link": true
    },
    "kernelspec": {
      "name": "python3",
      "display_name": "Python 3"
    },
    "language_info": {
      "name": "python"
    }
  },
  "cells": [
    {
      "cell_type": "markdown",
      "metadata": {
        "id": "view-in-github",
        "colab_type": "text"
      },
      "source": [
        "<a href=\"https://colab.research.google.com/github/prakash-noah/DSA/blob/main/DSA1_week1%262.ipynb\" target=\"_parent\"><img src=\"https://colab.research.google.com/assets/colab-badge.svg\" alt=\"Open In Colab\"/></a>"
      ]
    },
    {
      "cell_type": "code",
      "source": [
        "\"\"\"Input format. Integers a and b on the same line (separated by a space).\n",
        "Output format. The sum of a and b.\n",
        "Constraints. 0 ≤ a,b ≤ 9.\n",
        "Sample.\n",
        "Input:\n",
        "9 7\n",
        "Output:\n",
        "16\n",
        "\"\"\""
      ],
      "metadata": {
        "id": "fXFW8fbxkqY-"
      },
      "execution_count": null,
      "outputs": []
    },
    {
      "cell_type": "code",
      "metadata": {
        "id": "2elEljRHA1ED"
      },
      "source": [
        "def sum(num1,num2):\n",
        "  return num1 + num2\n",
        "if __name__ == '__main__':\n",
        "  a,b = map(int,input().split())\n",
        "  print(sum(a,b))"
      ],
      "execution_count": null,
      "outputs": []
    },
    {
      "cell_type": "code",
      "source": [
        "\"\"\"Input format. The first line contains an integer n. The next line contains\n",
        "n non-negative integers a1\n",
        ",...,an (separated by spaces).\n",
        "Output format. The maximum pairwise product.\n",
        "Constraints. 2 ≤ n ≤ 2 · 105\n",
        "; 0 ≤ a1\n",
        ",...,an ≤ 2 · 105\n",
        ".\n",
        "Sample 1.\n",
        "Input:\n",
        "3\n",
        "1 2 3\n",
        "Output:\n",
        "6\n",
        "10\n",
        "Sample 2.\n",
        "Input:\n",
        "10\n",
        "7 5 14 2 8 8 10 1 2 3\n",
        "Output:\n",
        "140\"\"\"\n"
      ],
      "metadata": {
        "id": "rWtnigYOkyjL"
      },
      "execution_count": null,
      "outputs": []
    },
    {
      "cell_type": "code",
      "metadata": {
        "id": "t6dVaQOBA6xC"
      },
      "source": [
        "n = int(input())\n",
        "a = [int(x) for x in input().split()]\n",
        "product = 0\n",
        "for i in range(n):\n",
        "  for j in range(i + 1,n):\n",
        "    product = max(product,a[i]*a[j])\n",
        "print(product)"
      ],
      "execution_count": null,
      "outputs": []
    },
    {
      "cell_type": "code",
      "source": [
        "\"\"\"Task. Given an integer 𝑛, find the 𝑛th Fibonacci number 𝐹𝑛.\n",
        "Input Format. The input consists of a single integer 𝑛.\n",
        "Constraints. 0 ≤ 𝑛 ≤ 45.\n",
        "Output Format. Output 𝐹𝑛.\n",
        "Sample 1.\n",
        "Input:\n",
        "10\n",
        "Output:\n",
        "55\n",
        "𝐹10 = 55.\"\"\"\n"
      ],
      "metadata": {
        "id": "ln4CAsCjlCff"
      },
      "execution_count": null,
      "outputs": []
    },
    {
      "cell_type": "code",
      "metadata": {
        "id": "g2sHrbNzA61X",
        "colab": {
          "base_uri": "https://localhost:8080/"
        },
        "outputId": "331036d0-0e2f-4631-f62a-4c17ce79b564"
      },
      "source": [
        "def fibo_value(n):\n",
        "  if n <= 1:\n",
        "    return n\n",
        "  return fibo_value(n - 1) + fibo_value(n - 2)\n",
        "n = int(input())\n",
        "print(fibo_value(n))"
      ],
      "execution_count": null,
      "outputs": [
        {
          "output_type": "stream",
          "name": "stdout",
          "text": [
            "7\n",
            "13\n"
          ]
        }
      ]
    },
    {
      "cell_type": "code",
      "source": [
        "\"\"\"Task. Given an integer 𝑛, find the last digit of the 𝑛th Fibonacci number 𝐹𝑛 (that is, 𝐹𝑛 mod 10).\n",
        "Input Format. The input consists of a single integer 𝑛.\n",
        "Constraints. 0 ≤ 𝑛 ≤ 107\n",
        ".\n",
        "Output Format. Output the last digit of 𝐹𝑛.\n",
        "Sample 1.\n",
        "Input:\n",
        "3\n",
        "Output:\n",
        "2\n",
        "𝐹3 = 2.\n",
        "Sample 2.\n",
        "Input:\n",
        "331\n",
        "Output:\n",
        "9\"\"\""
      ],
      "metadata": {
        "id": "VDXN-Qt3lKuS"
      },
      "execution_count": null,
      "outputs": []
    },
    {
      "cell_type": "code",
      "metadata": {
        "id": "sPMUaLHtA65s",
        "colab": {
          "base_uri": "https://localhost:8080/"
        },
        "outputId": "f5969067-07d4-461c-cbc4-43b38522510f"
      },
      "source": [
        "def fibonnaci_last_value(n):\n",
        "  if n <= 1:\n",
        "    return n \n",
        "  previous = 0\n",
        "  current = 1\n",
        "  for _ in range(n - 1):\n",
        "    previous,current = current , previous + current\n",
        "  return current % 10 \n",
        "n = int(input())\n",
        "print(fibonnaci_last_value(n))"
      ],
      "execution_count": null,
      "outputs": [
        {
          "output_type": "stream",
          "name": "stdout",
          "text": [
            "331\n",
            "9\n"
          ]
        }
      ]
    },
    {
      "cell_type": "code",
      "source": [
        "\"\"\"Task. Given two integers 𝑎 and 𝑏, find their greatest common divisor.\n",
        "Input Format. The two integers 𝑎, 𝑏 are given in the same line separated by space.\n",
        "Constraints. 1 ≤ 𝑎, 𝑏 ≤ 2 · 109\n",
        ".\n",
        "Output Format. Output GCD(𝑎, 𝑏).\n",
        "Sample 1.\n",
        "Input:\n",
        "18 35\n",
        "Output:\n",
        "1\n",
        "18 and 35 do not have common non-trivial divisors.\n",
        "Sample 2.\n",
        "Input:\n",
        "28851538 1183019\n",
        "Output:\n",
        "17657\n",
        "28851538 = 17657 · 1634, 1183019 = 17657 · 67.\n",
        "\"\"\""
      ],
      "metadata": {
        "id": "rsipZr-slaMi"
      },
      "execution_count": null,
      "outputs": []
    },
    {
      "cell_type": "code",
      "metadata": {
        "id": "rE1fdxEFA7Nc"
      },
      "source": [
        "import sys\n",
        "def gcd(a,b):\n",
        "  current_gcd = 1\n",
        "  for d in range(2,min(a,b)+1):\n",
        "    if a % d == 0 and b % d == 0:\n",
        "      if d > current_gcd:\n",
        "        current_gcd = d\n",
        "  return current_gcd\n",
        "if __name__ == '__main__':\n",
        "  input = sys.stdin.read()\n",
        "  a,b = map(int,input.split())\n",
        "  print(gcd(a,b))"
      ],
      "execution_count": null,
      "outputs": []
    },
    {
      "cell_type": "code",
      "source": [
        "\"\"\"Task. Given two integers 𝑎 and 𝑏, find their least common multiple.\n",
        "Input Format. The two integers 𝑎 and 𝑏 are given in the same line separated by space.\n",
        "Constraints. 1 ≤ 𝑎, 𝑏 ≤ 107\n",
        ".\n",
        "Output Format. Output the least common multiple of 𝑎 and 𝑏.\n",
        "Sample 1.\n",
        "Input:\n",
        "6 8\n",
        "Output:\n",
        "24\n",
        "Among all the positive integers that are divisible by both 6 and 8 (e.g., 48, 480, 24), 24 is the smallest\n",
        "one.\n",
        "Sample 2.\n",
        "Input:\n",
        "761457 614573\n",
        "Output:\n",
        "467970912861\"\"\"\n"
      ],
      "metadata": {
        "id": "7hVBO4g8lnF6"
      },
      "execution_count": null,
      "outputs": []
    },
    {
      "cell_type": "code",
      "metadata": {
        "id": "vTIfSTESA7RS"
      },
      "source": [
        "import sys \n",
        "def lcm(a,b):\n",
        "  for l in range(1,a*b+1):\n",
        "    if l % a == 0 and l % b == 0:\n",
        "      return l \n",
        "  return a * b\n",
        "if __name__ == \"__main__\":\n",
        "  input = sys.stdin.read()\n",
        "  a,b = map(int,input.split())\n",
        "  print(lcm(a,b))"
      ],
      "execution_count": null,
      "outputs": []
    },
    {
      "cell_type": "code",
      "source": [
        "\"\"\"Task. Given two integers 𝑛 and 𝑚, output 𝐹𝑛 mod 𝑚 (that is, the remainder of 𝐹𝑛 when divided by 𝑚).\n",
        "Input Format. The input consists of two integers 𝑛 and 𝑚 given on the same line (separated by a space).\n",
        "Constraints. 1 ≤ 𝑛 ≤ 1014\n",
        ", 2 ≤ 𝑚 ≤ 103\n",
        ".\n",
        "Output Format. Output 𝐹𝑛 mod 𝑚.\n",
        "Sample 1.\n",
        "Input:\n",
        "239 1000\n",
        "Output:\n",
        "161\n",
        "𝐹239 mod 1 000 = 39 679 027 332 006 820 581 608 740 953 902 289 877 834 488 152 161 (mod 1 000) = 161.\n",
        "Sample 2.\n",
        "Input:\n",
        "2816213588 239\n",
        "Output:\n",
        "151\n",
        "𝐹2 816 213 588 does not fit into one page of this file, but 𝐹2 816 213 588 mod 239 = 151.\"\"\""
      ],
      "metadata": {
        "id": "nY6d-OhJlu7n"
      },
      "execution_count": null,
      "outputs": []
    },
    {
      "cell_type": "code",
      "metadata": {
        "id": "9PisVIYCA7U8"
      },
      "source": [
        "import sys \n",
        "def fibonnaci_last_value(n,m):\n",
        "  if n <= 1:\n",
        "    return n \n",
        "  previous = 0\n",
        "  current = 1\n",
        "  for _ in range(n - 1):\n",
        "    previous,current = current , previous + current\n",
        "  return current % m\n",
        "\n",
        "if __name__ == \"__main__\":\n",
        "  input = sys.stdin.read()\n",
        "  n,m = map(int,input.split())\n",
        "  print(fibonnaci_last_value(n,m))"
      ],
      "execution_count": null,
      "outputs": []
    },
    {
      "cell_type": "code",
      "source": [
        "\"\"\"Task. Given an integer 𝑛, find the last digit of the sum 𝐹0 + 𝐹1 + · · · + 𝐹𝑛.\n",
        "Input Format. The input consists of a single integer 𝑛.\n",
        "Constraints. 0 ≤ 𝑛 ≤ 1014\n",
        ".\n",
        "Output Format. Output the last digit of 𝐹0 + 𝐹1 + · · · + 𝐹𝑛.\n",
        "Sample 1.\n",
        "Input:\n",
        "3\n",
        "Output:\n",
        "4\n",
        "𝐹0 + 𝐹1 + 𝐹2 + 𝐹3 = 0 + 1 + 1 + 2 = 4.\n",
        "Sample 2.\n",
        "Input:\n",
        "100\n",
        "Output:\n",
        "5\n",
        "The sum is equal to 927 372 692 193 078 999 175, the last digit is 5\"\"\""
      ],
      "metadata": {
        "id": "6y_e_Cp4mRxu"
      },
      "execution_count": null,
      "outputs": []
    },
    {
      "cell_type": "code",
      "metadata": {
        "id": "EcRxpMGlxKii",
        "colab": {
          "base_uri": "https://localhost:8080/"
        },
        "outputId": "197c51a5-ca57-4f1c-e608-9e4842f52962"
      },
      "source": [
        "import sys \n",
        "def last_value_of_fibo_sum(n):\n",
        "  if n <= 1:\n",
        "    return n \n",
        "  previous = 0\n",
        "  current = 1\n",
        "  sum = 1\n",
        "  for _ in range(n - 1):\n",
        "    previous,current = current,previous + current \n",
        "    sum += current \n",
        "  return sum % 10\n",
        "n = int(input())\n",
        "print(last_value_of_fibo_sum(n))"
      ],
      "execution_count": null,
      "outputs": [
        {
          "output_type": "stream",
          "name": "stdout",
          "text": [
            "100\n",
            "5\n"
          ]
        }
      ]
    },
    {
      "cell_type": "code",
      "source": [
        "\"\"\"Task. Given two non-negative integers 𝑚 and 𝑛, where 𝑚 ≤ 𝑛, find the last digit of the sum 𝐹𝑚 + 𝐹𝑚+1 +\n",
        "· · · + 𝐹𝑛.\n",
        "Input Format. The input consists of two non-negative integers 𝑚 and 𝑛 separated by a space.\n",
        "Constraints. 0 ≤ 𝑚 ≤ 𝑛 ≤ 1014\n",
        ".\n",
        "Output Format. Output the last digit of 𝐹𝑚 + 𝐹𝑚+1 + · · · + 𝐹𝑛.\n",
        "Sample 1.\n",
        "Input:\n",
        "3 7\n",
        "Output:\n",
        "1\n",
        "𝐹3 + 𝐹4 + 𝐹5 + 𝐹6 + 𝐹7 = 2 + 3 + 5 + 8 + 13 = 31.\n",
        "Sample 2.\n",
        "Input:\n",
        "10 10\n",
        "Output:\n",
        "5\n",
        "𝐹10 = 55.\n",
        "Sample 3.\n",
        "Input:\n",
        "10 200\n",
        "Output:\n",
        "2\n",
        "𝐹10 + 𝐹11 + · · · + 𝐹200 = 734 544 867 157 818 093 234 908 902 110 449 296 423 262\"\"\"\n"
      ],
      "metadata": {
        "id": "T2sdbp9mmZs6"
      },
      "execution_count": null,
      "outputs": []
    },
    {
      "cell_type": "code",
      "metadata": {
        "id": "rByyi76txKxH"
      },
      "source": [
        "import sys \n",
        "def fibo_partial_sum(from_,to):\n",
        "  sum = 0\n",
        "  current = 0\n",
        "  next = 1\n",
        "  for i in range(to+1):\n",
        "    if i >= from_:\n",
        "      sum += current \n",
        "    current,next = next,current + next\n",
        "  return sum % 10 \n",
        "if __name__ == \"__main__\":\n",
        "  input = sys.stdin.read()\n",
        "  from_,to = map(int,input.split())\n",
        "  print(fibo_partial_sum(from_,to))"
      ],
      "execution_count": null,
      "outputs": []
    }
  ]
}