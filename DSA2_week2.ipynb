{
  "nbformat": 4,
  "nbformat_minor": 0,
  "metadata": {
    "colab": {
      "name": "DSA2_week2.ipynb",
      "provenance": [],
      "collapsed_sections": [],
      "authorship_tag": "ABX9TyMQt2JDlT0VRSjFASJiCdHh",
      "include_colab_link": true
    },
    "kernelspec": {
      "name": "python3",
      "display_name": "Python 3"
    },
    "language_info": {
      "name": "python"
    }
  },
  "cells": [
    {
      "cell_type": "markdown",
      "metadata": {
        "id": "view-in-github",
        "colab_type": "text"
      },
      "source": [
        "<a href=\"https://colab.research.google.com/github/prakash-bisht/DSA/blob/main/DSA2_week2.ipynb\" target=\"_parent\"><img src=\"https://colab.research.google.com/assets/colab-badge.svg\" alt=\"Open In Colab\"/></a>"
      ]
    },
    {
      "cell_type": "code",
      "execution_count": null,
      "metadata": {
        "id": "wpqYBsohL4V3"
      },
      "outputs": [],
      "source": [
        "\"\"\"\n",
        "Input Format. The first line of the input contains single integer n. The next line contains n space-separated integers ai .\n",
        "\n",
        "Output Format. The first line of the output should contain single integer m — the total number of swaps.\n",
        "m must satisfy conditions 0 ≤ m ≤ 4n. The next m lines should contain the swap operations used\n",
        "to convert the array a into a heap. Each swap is described by a pair of integers i, j — the 0-based\n",
        "indices of the elements to be swapped. After applying all the swaps in the specified order the array\n",
        "must become a heap,\n",
        "for each i where 0 ≤ i ≤ n − 1 the following conditions must be true:\n",
        "1. If 2i + 1 ≤ n − 1, then ai < a2i+1 .\n",
        "2. If 2i + 2 ≤ n − 1, then ai < a2i+2 .\n",
        "\n",
        "Sample 1.\n",
        "Input:\n",
        "5\n",
        "5 4 3 2 1\n",
        "Output:\n",
        "3\n",
        "1 4\n",
        "0 1\n",
        "1 3\n",
        "\n",
        "Sample 2.\n",
        "Input:\n",
        "5\n",
        "1 2 3 4 5\n",
        "Output:\n",
        "0\n",
        "\"\"\""
      ]
    },
    {
      "cell_type": "code",
      "source": [
        "#optimal solution\n",
        "class Minheap():\n",
        "  def __init__(self,array):\n",
        "    self.A = array \n",
        "    self.size = len(self.A)\n",
        "    self.swaps = []\n",
        "  def siftdown(self,i):\n",
        "    minindex = i \n",
        "    left = 2*i +1 \n",
        "    right = 2*i + 2\n",
        "    if left < self.size and self.A[left] < self.A[minindex]:\n",
        "      minindex = left \n",
        "    if right < self.size and self.A[right] < self.A[minindex]:\n",
        "      minindex = right \n",
        "    if minindex != i:\n",
        "      self.swaps.append((i,minindex))\n",
        "      self.A[i],self.A[minindex] = self.A[minindex],self.A[i]\n",
        "      self.siftdown(minindex)\n",
        "\n",
        "  def buildheap(self):\n",
        "    n = self.size \n",
        "    for i in range(n//2-1,-1,-1):\n",
        "      self.siftdown(i)\n",
        "\n",
        "    \n",
        "def main():\n",
        "  n = int(input())\n",
        "  array = list(map(int,input().split()))\n",
        "  assert len(array) == n\n",
        "  heap = Minheap(array)\n",
        "  Minheap.buildheap(heap)\n",
        "  swaps = heap.swaps \n",
        "  print(len(swaps))\n",
        "  for swap in swaps:\n",
        "    print(*swap)\n",
        "\n",
        "if __name__ == \"__main__\":\n",
        "  main()\n"
      ],
      "metadata": {
        "id": "SOkkBEAbMEav",
        "colab": {
          "base_uri": "https://localhost:8080/"
        },
        "outputId": "e6a58913-88fd-4588-d8f1-37e0e5682271"
      },
      "execution_count": null,
      "outputs": [
        {
          "output_type": "stream",
          "name": "stdout",
          "text": [
            "5\n",
            "5 4 3 2 1\n",
            "3\n",
            "1 4\n",
            "0 1\n",
            "1 3\n"
          ]
        }
      ]
    },
    {
      "cell_type": "code",
      "source": [
        "\"\"\"\n",
        "Input Format. The first line of the input contains integers n and m.\n",
        "The second line contains m integers ti — the times in seconds it takes any thread to process i-th job.\n",
        "The times are given in the same order as they are in the list from which threads take jobs.\n",
        "Threads are indexed starting from 0.\n",
        "\n",
        "Constraints. 1 ≤ n ≤ 105 ; 1 ≤ m ≤ 105 ; 0 ≤ ti ≤ 109 .\n",
        "\n",
        "Output Format. Output exactly m lines. i-th line (0-based index is used) should contain two space-\n",
        "separated integers — the 0-based index of the thread which will process the i-th job and the time\n",
        "in seconds when it will start processing that job.\n",
        "\n",
        "Sample 1.\n",
        "Input:\n",
        "5\n",
        "5 4 3 2 1\n",
        "Output:\n",
        "3\n",
        "1 4\n",
        "0 1\n",
        "1 3\n",
        "\"\"\""
      ],
      "metadata": {
        "id": "ctCu5ptpKTiQ"
      },
      "execution_count": null,
      "outputs": []
    },
    {
      "cell_type": "code",
      "source": [
        "from collections import namedtuple \n",
        "assignedjobs = namedtuple('assignedjobs',['threads','started_at'])\n",
        "\n",
        "class jobqueue:\n",
        "\n",
        "  def __init__(self,threads,jobs):\n",
        "    self.n = threads\n",
        "    self.jobs = jobs \n",
        "    self.finish_time = []\n",
        "    self.assigned_jobs = []\n",
        "    for i in range(self.n):\n",
        "      self.finish_time.append([i,0])\n",
        "  \n",
        "  def siftdown(self,i):\n",
        "    minindex = i \n",
        "    left = 2*i + 1\n",
        "    right = 2*i + 2\n",
        "    if left < self.n:\n",
        "      if self.finish_time[minindex][1] > self.finish_time[left][1]:\n",
        "        minindex = left \n",
        "      elif self.finish_time[minindex][1] == self.finish_time[left][1]:\n",
        "        if self.finish_time[minindex][0] > self.finish_time[left][0]:\n",
        "          minindex = left \n",
        "\n",
        "    if right < self.n:\n",
        "      if self.finish_time[minindex][1] > self.finish_time[right][1]:\n",
        "        minindex = right \n",
        "      elif self.finish_time[minindex][1] == self.finish_time[right][1]:\n",
        "        if self.finish_time[minindex][0] > self.finish_time[right][0]:\n",
        "          minindex = right \n",
        "\n",
        "    if minindex != i:\n",
        "      self.finish_time[i],self.finish_time[minindex] = self.finish_time[minindex],self.finish_time[i]\n",
        "      self.siftdown(minindex)\n",
        "\n",
        "  def nextthread(self,job):\n",
        "    root = self.finish_time[0]\n",
        "    next_thread = root[0]\n",
        "    started_at = root[1]\n",
        "    self.assigned_jobs.append(assignedjobs(next_thread,started_at))\n",
        "    self.finish_time[0][1] += job\n",
        "    self.siftdown(0)\n",
        "\n",
        "def main():\n",
        "  threads,n_jobs = map(int,input().split())\n",
        "  jobs = list(map(int,input().split()))\n",
        "  assert len(jobs) == n_jobs\n",
        "  job_queue = jobqueue(threads,jobs)\n",
        "  for job in jobs:\n",
        "    job_queue.nextthread(job)\n",
        "  assigned_jobs = job_queue.assigned_jobs \n",
        "  \n",
        "  for job in assigned_jobs:\n",
        "    print(job.threads,job.started_at)\n",
        "\n",
        "if __name__ == \"__main__\":\n",
        "  main()"
      ],
      "metadata": {
        "id": "j5PooV7pMEpK",
        "colab": {
          "base_uri": "https://localhost:8080/"
        },
        "outputId": "27b7cf6c-1889-4f2f-a408-289d62ed54a9"
      },
      "execution_count": null,
      "outputs": [
        {
          "output_type": "stream",
          "name": "stdout",
          "text": [
            "2 5\n",
            "1 2 3 4 5\n",
            "0 0\n",
            "1 0\n",
            "0 1\n",
            "1 2\n",
            "0 4\n"
          ]
        }
      ]
    },
    {
      "cell_type": "code",
      "source": [
        "\"\"\"\n",
        "Input Format. The first line of the input contains two integers n and m — the number of tables in the\n",
        "database and the number of merge queries to perform, respectively.\n",
        "The second line of the input contains n integers ri — the number of rows in the i-th table.\n",
        "Then follow m lines describing merge queries. Each of them contains two integers destinationi and\n",
        "sourcei — the numbers of the tables to merge.\n",
        "\n",
        "Output Format. For each query print a line containing a single integer — the maximum of the sizes of all\n",
        "tables (in terms of the number of rows) after the corresponding operation.\n",
        "\n",
        "Sample 1.\n",
        "Input:\n",
        "5 5\n",
        "1 1 1 1 1\n",
        "3 5\n",
        "2 4\n",
        "1 4\n",
        "5 4\n",
        "5 3\n",
        "Output:\n",
        "2\n",
        "2\n",
        "3\n",
        "5\n",
        "5\n",
        "\"\"\""
      ],
      "metadata": {
        "id": "49_V7UJyMFAE"
      },
      "execution_count": null,
      "outputs": []
    },
    {
      "cell_type": "code",
      "source": [
        "class database:\n",
        "  def __init__(self,row_counts):\n",
        "    self.max_row_count = max(row_counts)\n",
        "    self.row_counts = row_counts \n",
        "    n_tables = len(row_counts)\n",
        "    self.parent = list(range(n_tables))\n",
        "    self.rank = [0] * n_tables \n",
        "\n",
        "  def findparent(self,i):\n",
        "    if i != self.parent[i]:\n",
        "      self.parent[i] = self.findparent(self.parent[i])\n",
        "    return self.parent[i]\n",
        "  \n",
        "  def mergetable(self,dst,src):\n",
        "    src_parent = self.findparent(src)\n",
        "    dst_parent = self.findparent(dst)\n",
        "    if src_parent == dst_parent:\n",
        "      return \n",
        "    if self.rank[src_parent] > self.rank[dst_parent]:\n",
        "      self.parent[dst_parent] = src_parent \n",
        "      self.row_counts[src_parent] += self.row_counts[dst_parent]\n",
        "      self.row_counts[dst_parent] = 0\n",
        "      self.max_row_count = max(self.row_counts[src_parent],self.max_row_count)\n",
        "    else:\n",
        "      self.parent[src_parent] = dst_parent\n",
        "      self.row_counts[dst_parent] += self.row_counts[src_parent]\n",
        "      self.row_counts[src_parent] = 0\n",
        "      self.max_row_count = max(self.max_row_count, self.row_counts[dst_parent])\n",
        "      if self.rank[src_parent] == self.rank[dst_parent]:\n",
        "        self.rank[dst_parent] += 1 \n",
        "\n",
        "def main():\n",
        "  n_tables,n_queries = map(int,input().split())\n",
        "  counts = list(map(int,input().split()))\n",
        "  assert(n_tables == len(counts))\n",
        "  db = database(counts)\n",
        "  for i in range(n_queries):\n",
        "    dst,src = map(int,input().split())\n",
        "    db.mergetable(dst-1,src-1)\n",
        "    print(db.max_row_count)\n",
        "\n",
        "if __name__ == \"__main__\":\n",
        "  main()"
      ],
      "metadata": {
        "colab": {
          "base_uri": "https://localhost:8080/"
        },
        "id": "3mwoCoWT5jQ1",
        "outputId": "300f8d59-2df7-4109-ed76-fca84ba76b60"
      },
      "execution_count": null,
      "outputs": [
        {
          "output_type": "stream",
          "name": "stdout",
          "text": [
            "5 5\n",
            "1 1 1 1 1\n",
            "3 5\n",
            "2\n",
            "2 4\n",
            "2\n",
            "1 4\n",
            "3\n",
            "5 4\n",
            "5\n",
            "5 3\n",
            "5\n"
          ]
        }
      ]
    }
  ]
}