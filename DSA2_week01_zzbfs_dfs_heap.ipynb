{
  "nbformat": 4,
  "nbformat_minor": 0,
  "metadata": {
    "colab": {
      "provenance": [],
      "include_colab_link": true
    },
    "kernelspec": {
      "name": "python3",
      "display_name": "Python 3"
    },
    "language_info": {
      "name": "python"
    }
  },
  "cells": [
    {
      "cell_type": "markdown",
      "metadata": {
        "id": "view-in-github",
        "colab_type": "text"
      },
      "source": [
        "<a href=\"https://colab.research.google.com/github/prakash-bisht/DSA/blob/main/DSA2_week01_zzbfs_dfs_heap.ipynb\" target=\"_parent\"><img src=\"https://colab.research.google.com/assets/colab-badge.svg\" alt=\"Open In Colab\"/></a>"
      ]
    },
    {
      "cell_type": "code",
      "execution_count": null,
      "metadata": {
        "colab": {
          "base_uri": "https://localhost:8080/"
        },
        "id": "TDpAiKeGfX5-",
        "outputId": "382250f8-2ae7-499a-8c7f-83633cf4c51e"
      },
      "outputs": [
        {
          "output_type": "stream",
          "name": "stdout",
          "text": [
            "dfs inorder\n",
            "400\n",
            "200\n",
            "500\n",
            "100\n",
            "300\n",
            "dfs preorder\n",
            "100\n",
            "200\n",
            "400\n",
            "500\n",
            "300\n",
            "dfs postorder\n",
            "400\n",
            "500\n",
            "200\n",
            "300\n",
            "100\n"
          ]
        }
      ],
      "source": [
        "class node:\n",
        "  def __init__(self,key):\n",
        "    self.left =  None\n",
        "    self.right = None\n",
        "    self.value = key\n",
        "\n",
        "def dfs_inorder(root):\n",
        "  if root:\n",
        "    dfs_inorder(root.left)\n",
        "    print(root.value)\n",
        "    dfs_inorder(root.right)\n",
        "\n",
        "def dfs_preorder(root):\n",
        "  if root:\n",
        "    print(root.value)\n",
        "    dfs_preorder(root.left)\n",
        "    dfs_preorder(root.right)\n",
        "\n",
        "def dfs_postorder(root):\n",
        "  if root:\n",
        "    dfs_postorder(root.left)\n",
        "    dfs_postorder(root.right)\n",
        "    print(root.value)\n",
        "\n",
        "root = node(100)\n",
        "root.left = node(200)\n",
        "root.right = node(300)\n",
        "root.left.left = node(400)\n",
        "root.left.right = node(500)\n",
        "\n",
        "print(\"dfs inorder\")\n",
        "dfs_inorder(root)\n",
        "\n",
        "print(\"dfs preorder\")\n",
        "dfs_preorder(root)\n",
        "\n",
        "print(\"dfs postorder\")\n",
        "dfs_postorder(root)"
      ]
    },
    {
      "cell_type": "code",
      "source": [
        "class Node:\n",
        "  def __init__(self,key):\n",
        "    self.left =  None\n",
        "    self.right = None\n",
        "    self.value = key\n",
        "\n",
        "def bfs_levelorder(root):\n",
        "  if not root:\n",
        "    return\n",
        "\n",
        "  queue = []\n",
        "  queue.append(root)\n",
        "\n",
        "  while(len(queue) > 0):\n",
        "    print(queue[0].value,end = ' ')\n",
        "    node = queue.pop(0)\n",
        "\n",
        "    if node.left:\n",
        "      queue.append(node.left)\n",
        "\n",
        "    if node.right:\n",
        "      queue.append(node.right)\n",
        "\n",
        "root = Node(1)\n",
        "root.left = Node(2)\n",
        "root.right = Node(3)\n",
        "root.left.left = Node(4)\n",
        "root.left.right = Node(5)\n",
        "bfs_levelorder(root)"
      ],
      "metadata": {
        "colab": {
          "base_uri": "https://localhost:8080/"
        },
        "id": "j_SN4voofh-K",
        "outputId": "31ae0402-baa7-4909-da88-f37a735b2b9b"
      },
      "execution_count": null,
      "outputs": [
        {
          "output_type": "stream",
          "name": "stdout",
          "text": [
            "1 2 3 4 5 "
          ]
        }
      ]
    },
    {
      "cell_type": "code",
      "source": [
        "# Priority-queue using array implementation of binary heap.\n",
        "\n",
        "H = [0] * 30 #max_size\n",
        "size = -1\n",
        "\n",
        "def parent(i):\n",
        "  return (i - 1) // 2\n",
        "\n",
        "def leftchild(i):\n",
        "  return (2*i) + 1\n",
        "\n",
        "def rightchild(i):\n",
        "  return (2*i) + 2\n",
        "\n",
        "def shiftup(i):\n",
        "  while(i > 0 and H[parent(i)] < H[i]):\n",
        "    swap(parent(i),i)\n",
        "    i = parent(i)\n",
        "\n",
        "def shiftdown(i):\n",
        "  maxindex = i\n",
        "  l = leftchild(i)\n",
        "  r = rightchild(i)\n",
        "\n",
        "  if (l < size and H[maxindex] < H[l]):\n",
        "    maxindex = l\n",
        "\n",
        "  if (r < size and H[maxindex] < H[r]):\n",
        "    maxindex = r\n",
        "\n",
        "  if i != maxindex:\n",
        "    swap(i,maxindex)\n",
        "    shiftdown(maxindex)\n",
        "\n",
        "def insert(p):\n",
        "  global size\n",
        "  size += 1\n",
        "  H[size] = p\n",
        "  shiftup(size)\n",
        "\n",
        "def extractmax():\n",
        "  global size\n",
        "  result = H[0]\n",
        "  H[0] = H[size]\n",
        "  size -= 1\n",
        "  shiftdown(0)\n",
        "  return result\n",
        "\n",
        "def changepriority(i,p):\n",
        "  old = H[i]\n",
        "  H[i] = p\n",
        "\n",
        "  if p > old:\n",
        "    shiftup(i)\n",
        "  else:\n",
        "    shiftdown(int)\n",
        "\n",
        "def getmax():\n",
        "  return H[0]\n",
        "\n",
        "def remove(i):\n",
        "  H[i] = getmax() + 1\n",
        "  shiftup(i)\n",
        "  extractmax()\n",
        "\n",
        "def swap(i,j):\n",
        "  temp = H[i]\n",
        "  H[i] = H[j]\n",
        "  H[j] = temp\n",
        "\n",
        "insert(45)\n",
        "insert(20)\n",
        "insert(14)\n",
        "insert(12)\n",
        "insert(31)\n",
        "insert(7)\n",
        "insert(11)\n",
        "insert(13)\n",
        "insert(7)\n",
        "i = 0\n",
        "\n",
        "# Priority queue before extracting max\n",
        "print(\"Priority Queue : \", end = \"\")\n",
        "while (i <= size) :\n",
        "    print(H[i], end = \" \")\n",
        "    i += 1\n",
        "print()\n",
        "\n",
        "# Node with maximum priority\n",
        "print(\"Node with maximum priority :\" ,  extractmax())\n",
        "\n",
        "# Priority queue after extracting max\n",
        "print(\"Priority queue after extracting maximum : \", end = \"\")\n",
        "j = 0\n",
        "while (j <= size) :\n",
        "    print(H[j], end = \" \")\n",
        "    j += 1\n",
        "print()\n",
        "\n",
        "# Change the priority of element\n",
        "# present at index 2 to 49\n",
        "changepriority(2, 49)\n",
        "print(\"Priority queue after priority change : \", end = \"\")\n",
        "k = 0\n",
        "while (k <= size) :\n",
        "    print(H[k], end = \" \")\n",
        "    k += 1\n",
        "print()\n",
        "\n",
        "# Remove element at index 3\n",
        "remove(3)\n",
        "print(\"Priority queue after removing the element : \", end = \"\")\n",
        "l = 0\n",
        "while (l <= size) :\n",
        "    print(H[l], end = \" \")\n",
        "    l += 1"
      ],
      "metadata": {
        "colab": {
          "base_uri": "https://localhost:8080/"
        },
        "id": "_uiqdfM2K_mm",
        "outputId": "c7420cbd-4f76-47bb-9fc3-315354e8b7d3"
      },
      "execution_count": null,
      "outputs": [
        {
          "output_type": "stream",
          "name": "stdout",
          "text": [
            "Priority Queue : 45 31 14 13 20 7 11 12 7 \n",
            "Node with maximum priority : 45\n",
            "Priority queue after extracting maximum : 31 20 14 13 7 7 11 12 \n",
            "Priority queue after priority change : 49 20 31 13 7 7 11 12 \n",
            "Priority queue after removing the element : 49 20 31 12 7 7 11 "
          ]
        }
      ]
    }
  ]
}