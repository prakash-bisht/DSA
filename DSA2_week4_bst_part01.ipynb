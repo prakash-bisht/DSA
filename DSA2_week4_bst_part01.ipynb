{
  "nbformat": 4,
  "nbformat_minor": 0,
  "metadata": {
    "colab": {
      "provenance": [],
      "include_colab_link": true
    },
    "kernelspec": {
      "name": "python3",
      "display_name": "Python 3"
    },
    "language_info": {
      "name": "python"
    }
  },
  "cells": [
    {
      "cell_type": "markdown",
      "metadata": {
        "id": "view-in-github",
        "colab_type": "text"
      },
      "source": [
        "<a href=\"https://colab.research.google.com/github/prakash-bisht/DSA/blob/main/DSA2_week4_bst_part01.ipynb\" target=\"_parent\"><img src=\"https://colab.research.google.com/assets/colab-badge.svg\" alt=\"Open In Colab\"/></a>"
      ]
    },
    {
      "cell_type": "code",
      "execution_count": null,
      "metadata": {
        "colab": {
          "base_uri": "https://localhost:8080/"
        },
        "id": "9hSAUllkRfur",
        "outputId": "b268ba0a-1905-4825-ccf1-181c15661494"
      },
      "outputs": [
        {
          "output_type": "stream",
          "name": "stdout",
          "text": [
            "Found: 15\n"
          ]
        }
      ],
      "source": [
        "# BST search operation\n",
        "class TreeNode:\n",
        "  def __init__(self,key):\n",
        "    self.key = key\n",
        "    self.left = None\n",
        "    self.right = None\n",
        "\n",
        "def find(k,r):\n",
        "  if r is None:\n",
        "    return None\n",
        "\n",
        "  if r.key == k:\n",
        "    return r\n",
        "\n",
        "  elif r.key > k:\n",
        "    if r.left:\n",
        "      return find(k,r.left)\n",
        "    return r\n",
        "\n",
        "  else:\n",
        "    return find(k,r.right)\n",
        "\n",
        "\n",
        "root = TreeNode(20)\n",
        "root.left = TreeNode(10)\n",
        "root.right = TreeNode(30)\n",
        "root.left.left = TreeNode(5)\n",
        "root.left.right = TreeNode(15)\n",
        "\n",
        "result = find(15, root)\n",
        "if result:\n",
        "    print(\"Found:\", result.key)\n",
        "else:\n",
        "    print(\"Not found\")"
      ]
    },
    {
      "cell_type": "code",
      "source": [
        "class TreeNode:\n",
        "    def __init__(self, value):\n",
        "        self.key = value\n",
        "        self.left = None\n",
        "        self.right = None\n",
        "        self.parent = None\n",
        "\n",
        "def get_successor(node):\n",
        "  node = node.right\n",
        "  while node and node.left:\n",
        "    node = node.left\n",
        "  return node\n",
        "\n",
        "def right_ancestor(n):\n",
        "    if n.parent is None:\n",
        "      return None\n",
        "    if n.key < n.parent.key:\n",
        "      return n.parent\n",
        "    else:\n",
        "      return right_ancestor(n.parent)\n",
        "\n",
        "def Next(n):\n",
        "  if n.right:\n",
        "    return get_successor(n)\n",
        "  else:\n",
        "    return right_ancestor(n)\n",
        "\n",
        "\n",
        "root = TreeNode(20)\n",
        "node10 = TreeNode(10)\n",
        "node30 = TreeNode(30)\n",
        "node5 = TreeNode(5)\n",
        "node15 = TreeNode(15)\n",
        "\n",
        "root.left = node10\n",
        "root.right = node30\n",
        "node10.parent = root\n",
        "node30.parent = root\n",
        "node10.left = node5\n",
        "node10.right = node15\n",
        "node5.parent = node10\n",
        "node15.parent = node10\n",
        "\n",
        "successor = Next(node10)\n",
        "if successor:\n",
        "    print(\"Successor of 10 is:\", successor.key)\n",
        "else:\n",
        "    print(\"No successor found\")"
      ],
      "metadata": {
        "colab": {
          "base_uri": "https://localhost:8080/"
        },
        "id": "AhkRa7eaRh1n",
        "outputId": "c34d1d7d-0488-4830-90f8-86bca59d12d2"
      },
      "execution_count": null,
      "outputs": [
        {
          "output_type": "stream",
          "name": "stdout",
          "text": [
            "Successor of 10 is: 15\n"
          ]
        }
      ]
    },
    {
      "cell_type": "code",
      "source": [
        "class TreeNode:\n",
        "    def __init__(self, key):\n",
        "        self.key = key\n",
        "        self.left = None\n",
        "        self.right = None\n",
        "        self.parent = None\n",
        "\n",
        "\n",
        "def range_search(x, y, R):\n",
        "    L = []\n",
        "    N = find(x, R)\n",
        "    while N and N.key <= y:\n",
        "        if N.key >= x:\n",
        "            L.append(N.key)\n",
        "        N = Next(N)\n",
        "    return L\n",
        "\n",
        "\n",
        "root = TreeNode(20)\n",
        "node10 = TreeNode(10)\n",
        "node30 = TreeNode(30)\n",
        "node5 = TreeNode(5)\n",
        "node15 = TreeNode(15)\n",
        "\n",
        "root.left = node10\n",
        "root.right = node30\n",
        "node10.parent = root\n",
        "node30.parent = root\n",
        "node10.left = node5\n",
        "node10.right = node15\n",
        "node5.parent = node10\n",
        "node15.parent = node10\n",
        "\n",
        "# Perform a range search\n",
        "result = range_search(10, 30, root)\n",
        "print(\"Keys in range [10, 30]:\", result)\n"
      ],
      "metadata": {
        "colab": {
          "base_uri": "https://localhost:8080/"
        },
        "id": "a4dgbOgGRh7H",
        "outputId": "7a26398d-eacd-4284-ccc3-4bea3e1db8b7"
      },
      "execution_count": null,
      "outputs": [
        {
          "output_type": "stream",
          "name": "stdout",
          "text": [
            "Keys in range [10, 30]: [10, 15, 20, 30]\n"
          ]
        }
      ]
    },
    {
      "cell_type": "code",
      "source": [
        "class TreeNode:\n",
        "    def __init__(self, key):\n",
        "        self.key = key\n",
        "        self.left = None\n",
        "        self.right = None\n",
        "        self.parent = None\n",
        "\n",
        "def insert(k, R):\n",
        "    new_node = TreeNode(k)\n",
        "    if R is None:\n",
        "        return new_node\n",
        "\n",
        "    P = find(k, R)\n",
        "\n",
        "    if P.key == k:\n",
        "        print(f\"Key {k} already exists.\")\n",
        "        return R\n",
        "\n",
        "    if k < P.key:\n",
        "        P.left = new_node\n",
        "    else:\n",
        "        P.right = new_node\n",
        "\n",
        "    new_node.parent = P\n",
        "    return R\n",
        "\n",
        "\n",
        "def print_tree(node):\n",
        "    if node is not None:\n",
        "        left_key = node.left.key if node.left else None\n",
        "        right_key = node.right.key if node.right else None\n",
        "        print(f\"Node: {node.key}, Left: {left_key}, Right: {right_key}\")\n",
        "        print_tree(node.left)\n",
        "        print_tree(node.right)\n",
        "\n",
        "root = TreeNode(20)\n",
        "node10 = TreeNode(10)\n",
        "node30 = TreeNode(30)\n",
        "node5 = TreeNode(5)\n",
        "node15 = TreeNode(15)\n",
        "\n",
        "root.left = node10\n",
        "root.right = node30\n",
        "node10.parent = root\n",
        "node30.parent = root\n",
        "node10.left = node5\n",
        "node10.right = node15\n",
        "node5.parent = node10\n",
        "node15.parent = node10\n",
        "\n",
        "root = insert(25, root)\n",
        "\n",
        "print(\"\\nBinary Search Tree after insertion:\")\n",
        "print_tree(root)"
      ],
      "metadata": {
        "colab": {
          "base_uri": "https://localhost:8080/"
        },
        "id": "s0YCFvSzRiAt",
        "outputId": "08528b19-8a64-4bb6-dfab-8889e1ca91d2"
      },
      "execution_count": null,
      "outputs": [
        {
          "output_type": "stream",
          "name": "stdout",
          "text": [
            "\n",
            "Binary Search Tree after insertion:\n",
            "Node: 20, Left: 10, Right: 30\n",
            "Node: 10, Left: 5, Right: 15\n",
            "Node: 5, Left: None, Right: None\n",
            "Node: 15, Left: None, Right: None\n",
            "Node: 30, Left: 25, Right: None\n",
            "Node: 25, Left: None, Right: None\n"
          ]
        }
      ]
    },
    {
      "cell_type": "code",
      "source": [
        "class Node:\n",
        "    def __init__(self, key):\n",
        "        self.key = key\n",
        "        self.left = None\n",
        "        self.right = None\n",
        "\n",
        "def del_node(root, x):\n",
        "\n",
        "    if root is None:\n",
        "        return root\n",
        "\n",
        "    if root.key > x:\n",
        "        root.left = del_node(root.left, x)\n",
        "    elif root.key < x:\n",
        "        root.right = del_node(root.right, x)\n",
        "\n",
        "    else:\n",
        "        if root.left is None:\n",
        "            return root.right\n",
        "\n",
        "        if root.right is None:\n",
        "            return root.left\n",
        "\n",
        "        succ = get_successor(root)\n",
        "        root.key = succ.key\n",
        "        root.right = del_node(root.right, succ.key)\n",
        "\n",
        "    return root\n",
        "\n",
        "def inorder(root):\n",
        "    if root is not None:\n",
        "        inorder(root.left)\n",
        "        print(root.key, end=\" \")\n",
        "        inorder(root.right)\n",
        "\n",
        "if __name__ == \"__main__\":\n",
        "    root = Node(10)\n",
        "    root.left = Node(5)\n",
        "    root.right = Node(15)\n",
        "    root.right.left = Node(12)\n",
        "    root.right.right = Node(18)\n",
        "    x = 5\n",
        "\n",
        "    root = del_node(root, x)\n",
        "    inorder(root)\n",
        "    print()\n"
      ],
      "metadata": {
        "colab": {
          "base_uri": "https://localhost:8080/"
        },
        "id": "O00H7qFPRiJD",
        "outputId": "8491cbe7-08a0-4d5f-d586-69b594b1cf3a"
      },
      "execution_count": null,
      "outputs": [
        {
          "output_type": "stream",
          "name": "stdout",
          "text": [
            "10 12 15 18 \n"
          ]
        }
      ]
    }
  ]
}