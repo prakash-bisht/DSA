{
  "cells": [
    {
      "cell_type": "code",
      "execution_count": null,
      "metadata": {
        "id": "hXV5gbJXfgT_"
      },
      "outputs": [],
      "source": [
        "\"\"\"Task. The goal in this code problem is to implement the binary search algorithm.\n",
        "Input Format. The first two lines of the input contain an integer 𝑛 and a sequence 𝑎0 < 𝑎1 < · · · < 𝑎𝑛−1\n",
        "of 𝑛 distinct positive integers in increasing order. The next two line contain an integer 𝑘 and 𝑘 positive\n",
        "integers 𝑏0, 𝑏1, . . . , 𝑏𝑘−1.\n",
        "Constraints. 1 ≤ 𝑘 ≤ 105\n",
        "; 1 ≤ 𝑛 ≤ 3 · 104\n",
        "; 1 ≤ 𝑎𝑖 ≤ 109\n",
        "for all 0 ≤ 𝑖 < 𝑛; 1 ≤ 𝑏𝑗 ≤ 109\n",
        "for all 0 ≤ 𝑗 < 𝑘;\n",
        "Output Format. For all 𝑖 from 0 to 𝑘 − 1, output an index 0 ≤ 𝑗 ≤ 𝑛 − 1 such that 𝑎𝑗 = 𝑏𝑖 or −1 if there\n",
        "is no such index.\n",
        "Sample 1.\n",
        "Input:\n",
        "5\n",
        "1 5 8 12 13\n",
        "5\n",
        "8 1 23 1 11\n",
        "Output:\n",
        "2 0 -1 0 -1\n",
        "In this sample, we are given an increasing sequence 𝑎0 = 1, 𝑎1 = 5, 𝑎2 = 8, 𝑎3 = 12, 𝑎4 = 13 of length\n",
        "five and five keys to search: 8, 1, 23, 1, 11. We see that 𝑎2 = 8 and 𝑎0 = 1, but the keys 23 and 11 do\n",
        "not appear in the sequence 𝑎. For this reason, we output a sequence 2, 0, −1, 0, −1.\"\"\""
      ]
    },
    {
      "cell_type": "code",
      "execution_count": null,
      "metadata": {
        "id": "nEuXDy2OftFH"
      },
      "outputs": [],
      "source": [
        "def binary_search(keys, query):\n",
        "    # write your code here\n",
        "    low = 0\n",
        "    high = len(keys) - 1 \n",
        "    while low <= high:\n",
        "        mid = (high + low // 2)\n",
        "        if query==keys[mid]:\n",
        "            return mid\n",
        "        elif query < keys[mid]:\n",
        "            high = mid - 1\n",
        "        else:\n",
        "            low = mid + 1 \n",
        "    return -1 \n",
        "\n",
        "if __name__ == '__main__':\n",
        "    num_keys = int(input())\n",
        "    input_keys = list(map(int, input().split()))\n",
        "    assert len(input_keys) == num_keys\n",
        "\n",
        "    num_queries = int(input())\n",
        "    input_queries = list(map(int, input().split()))\n",
        "    assert len(input_queries) == num_queries\n",
        "\n",
        "    for q in input_queries:\n",
        "        print(binary_search(input_keys, q), end=' ')"
      ]
    },
    {
      "cell_type": "code",
      "execution_count": null,
      "metadata": {},
      "outputs": [],
      "source": [
        "# recursive method\n",
        "def binary_search(arr, query, low, high):\n",
        "    if high < low:\n",
        "        return low - 1\n",
        "\n",
        "    mid = low + (high - low) // 2\n",
        "\n",
        "    if query == arr[mid]:\n",
        "        return mid\n",
        "    elif query < arr[mid]:\n",
        "        return binary_search(arr, query, low, mid - 1)\n",
        "    else:\n",
        "        return binary_search(arr, query, mid + 1, high)\n",
        "\n",
        "if __name__ == \"__main__\":\n",
        "    input_keys = list(map(int, input().split()))\n",
        "    query_keys = list(map(int, input().split()))\n",
        "    low = 0\n",
        "    high = len(input_keys) - 1\n",
        "    results = []\n",
        "    for i in query_keys:\n",
        "        result = binary_search(input_keys, i, low, high)\n",
        "        results.append(str(result))\n",
        "    print(' '.join(results))\n"
      ]
    },
    {
      "cell_type": "code",
      "execution_count": null,
      "metadata": {
        "id": "53L7XZaxftJP"
      },
      "outputs": [],
      "source": [
        "\"\"\"Task. Find the first occurence of an integer in the given sorted sequence of integers (possibly with duplicates).\n",
        "Input Format. The first two lines of the input contain an integer 𝑛 and a sequence 𝑎0 ≤ 𝑎1 ≤ · · · ≤ 𝑎𝑛−1\n",
        "of 𝑛 positive integers in non-decreasing order. The next two lines contain an integer 𝑘 and 𝑘 positive\n",
        "integers 𝑏0, 𝑏1, . . . , 𝑏𝑘−1.\n",
        "Constraints. 1 ≤ 𝑘 ≤ 105\n",
        "; 1 ≤ 𝑛 ≤ 3 · 104\n",
        "; 1 ≤ 𝑎𝑖 ≤ 109\n",
        "for all 0 ≤ 𝑖 < 𝑛; 1 ≤ 𝑏𝑗 ≤ 109\n",
        "for all 0 ≤ 𝑗 < 𝑘;\n",
        "Output Format. For all 𝑖 from 0 to 𝑘 − 1, output an index 0 ≤ 𝑗 ≤ 𝑛 − 1 of the first occurrence of 𝑏𝑖 (i.e.,\n",
        "𝑎𝑗 = 𝑏𝑖) or −1 if there is no such index.\n",
        "Sample 1.\n",
        "Input:\n",
        "7\n",
        "2 4 4 4 7 7 9\n",
        "4\n",
        "9 4 5 2\n",
        "Output:\n",
        "6 1 -1 0\"\"\"\n"
      ]
    },
    {
      "cell_type": "code",
      "execution_count": null,
      "metadata": {
        "id": "_alFuSIOftNJ"
      },
      "outputs": [],
      "source": [
        "def binary_search(keys, query):\n",
        "    # write your code here\n",
        "    low = 0\n",
        "    high = len(keys) - 1 \n",
        "    while low <= high:\n",
        "        mid = (high + low // 2)\n",
        "        if query==keys[mid]:\n",
        "            return keys.index(query) \n",
        "        elif query < keys[mid]:\n",
        "            high = mid - 1\n",
        "        else:\n",
        "            low = mid + 1 \n",
        "    return -1 \n",
        "\n",
        "if __name__ == '__main__':\n",
        "    num_keys = int(input())\n",
        "    input_keys = list(map(int, input().split()))\n",
        "    assert len(input_keys) == num_keys\n",
        "\n",
        "    num_queries = int(input())\n",
        "    input_queries = list(map(int, input().split()))\n",
        "    assert len(input_queries) == num_queries\n",
        "\n",
        "    for q in input_queries:\n",
        "        print(binary_search(input_keys, q), end=' ')"
      ]
    },
    {
      "cell_type": "code",
      "execution_count": null,
      "metadata": {
        "id": "O2nWIVc6ftbc"
      },
      "outputs": [],
      "source": [
        "\"\"\"Task. The goal in this code problem is to check whether an input sequence contains a majority element.\n",
        "Input Format. The first line contains an integer 𝑛, the next one contains a sequence of 𝑛 non-negative\n",
        "integers 𝑎0, 𝑎1, . . . , 𝑎𝑛−1.\n",
        "Constraints. 1 ≤ 𝑛 ≤ 105\n",
        "; 0 ≤ 𝑎𝑖 ≤ 109\n",
        "for all 0 ≤ 𝑖 < 𝑛.\n",
        "Output Format. Output 1 if the sequence contains an element that appears strictly more than 𝑛/2 times,\n",
        "and 0 otherwise.\n",
        "Sample 1.\n",
        "Input:\n",
        "5\n",
        "2 3 9 2 2\n",
        "Output:\n",
        "1\n",
        "2 is the majority element.\n",
        "Sample 2.\n",
        "Input:\n",
        "4\n",
        "1 2 3 4\n",
        "Output:\n",
        "0\n",
        "There is no majority element in this sequence.\n",
        "5\n",
        "Sample 3.\n",
        "Input:\n",
        "4\n",
        "1 2 3 1\n",
        "Output:\n",
        "0\"\"\"\n"
      ]
    },
    {
      "cell_type": "code",
      "execution_count": null,
      "metadata": {
        "id": "AZz7RuBnftfE"
      },
      "outputs": [],
      "source": [
        "class Solution:\n",
        "    def majorityElement(self, nums: List[int]) -> int:\n",
        "        def majorityelement_recursion(low,high):\n",
        "            if low == high:\n",
        "                return nums[low]\n",
        "\n",
        "            mid = (low + high) // 2 \n",
        "            left = majorityelement_recursion(low,mid)\n",
        "            right = majorityelement_recursion(mid+1,high)\n",
        "\n",
        "            if left == right:\n",
        "               return left \n",
        "\n",
        "            left_count = sum(1 for i in range(low,high+1) if nums[i] == left)\n",
        "            right_count = sum(1 for i in range(low,high+1) if nums[i] == right)\n",
        "\n",
        "            return left if left_count > right_count else right \n",
        "            \n",
        "        return majorityelement_recursion(0,len(nums)-1)"
      ]
    },
    {
      "cell_type": "code",
      "execution_count": null,
      "metadata": {
        "id": "QBCDFNM7ftnX"
      },
      "outputs": [],
      "source": [
        "\"\"\"Task. To force the given implementation of the quick sort algorithm to efficiently process sequences with\n",
        "few unique elements, your goal is replace a 2-way partition with a 3-way partition. That is, your new\n",
        "partition procedure should partition the array into three parts: < 𝑥 part, = 𝑥 part, and > 𝑥 part.\n",
        "Input Format. The first line of the input contains an integer 𝑛. The next line contains a sequence of 𝑛\n",
        "integers 𝑎0, 𝑎1, . . . , 𝑎𝑛−1.\n",
        "Constraints. 1 ≤ 𝑛 ≤ 105\n",
        "; 1 ≤ 𝑎𝑖 ≤ 109\n",
        "for all 0 ≤ 𝑖 < 𝑛.\n",
        "Output Format. Output this sequence sorted in non-decreasing order.\n",
        "Sample 1.\n",
        "Input:\n",
        "5\n",
        "2 3 9 2 2\n",
        "Output:\n",
        "2 2 2 3 9\"\"\""
      ]
    },
    {
      "cell_type": "code",
      "execution_count": null,
      "metadata": {
        "id": "QG4-fudxft4q"
      },
      "outputs": [],
      "source": [
        "import random \n",
        "import sys \n",
        "def partition_3way(a,left,right):\n",
        "    x = a[left]\n",
        "    j = left \n",
        "    m = right \n",
        "    i = left \n",
        "    while i <= m:\n",
        "        if a[i] < x:\n",
        "            a[i],a[j] = a[j],a[i]\n",
        "            i += 1\n",
        "            j += 1\n",
        "        elif a[i] > x:\n",
        "            a[i],a[m] = a[m],a[i]\n",
        "            m -= 1\n",
        "        else:\n",
        "            i += 1\n",
        "    return (j,m)\n",
        "\n",
        "def randomized_quicksort(a,left,right):\n",
        "    if left >= right:\n",
        "        return \n",
        "    k = random.randint(left,right)\n",
        "    a[left],a[k] = a[k],a[left]\n",
        "    m1,m2 = partition_3way(a,left,right)\n",
        "    randomized_quicksort(a,left,m1-1)\n",
        "    randomized_quicksort(a,m2+1,right)\n",
        "\n",
        "if __name__ == '__main__':\n",
        "    input = sys.stdin.read()\n",
        "    n, *a = list(map(int, input.split()))\n",
        "    randomized_quicksort(a, 0, n - 1)\n",
        "    for x in a:\n",
        "        print(x, end=' ')"
      ]
    },
    {
      "cell_type": "code",
      "execution_count": null,
      "metadata": {
        "id": "Ob_T4a_EkuaX"
      },
      "outputs": [],
      "source": [
        "#merge sort implementation "
      ]
    },
    {
      "cell_type": "code",
      "execution_count": 1,
      "metadata": {
        "colab": {
          "base_uri": "https://localhost:8080/"
        },
        "id": "ZwSEL_z_kumm",
        "outputId": "3b61265d-1214-4b5b-a4c3-27c9c6e67475"
      },
      "outputs": [
        {
          "name": "stdout",
          "output_type": "stream",
          "text": [
            "Given array is\n",
            "12 11 13 5 6 7 \n",
            "Sorted array is: \n",
            "5 6 7 11 12 13 \n"
          ]
        }
      ],
      "source": [
        "def mergeSort(arr):\n",
        "\n",
        "\tif len(arr) > 1:\n",
        "\t\tmid = len(arr)//2\n",
        "\t\tL = arr[:mid]\n",
        "\t\tR = arr[mid:]\n",
        "\t\tmergeSort(L)\n",
        "\t\tmergeSort(R)\n",
        "\t\ti = j = k = 0\n",
        "    \n",
        "\t\twhile i < len(L) and j < len(R):\n",
        "\t\t\tif L[i] <= R[j]:\n",
        "\t\t\t\tarr[k] = L[i]\n",
        "\t\t\t\ti += 1\n",
        "\t\t\telse:\n",
        "\t\t\t\tarr[k] = R[j]\n",
        "\t\t\t\tj += 1\n",
        "\t\t\tk += 1\n",
        "\n",
        "\t\twhile i < len(L):\n",
        "\t\t\tarr[k] = L[i]\n",
        "\t\t\ti += 1\n",
        "\t\t\tk += 1\n",
        "\n",
        "\t\twhile j < len(R):\n",
        "\t\t\tarr[k] = R[j]\n",
        "\t\t\tj += 1\n",
        "\t\t\tk += 1\n",
        "\n",
        "def printList(arr):\n",
        "\tfor i in range(len(arr)):\n",
        "\t\tprint(arr[i], end=\" \")\n",
        "\tprint()\n",
        "\n",
        "if __name__ == '__main__':\n",
        "\tarr = [12, 11, 13, 5, 6, 7]\n",
        "\tprint(\"Given array is\", end=\"\\n\")\n",
        "\tprintList(arr)\n",
        "\tmergeSort(arr)\n",
        "\tprint(\"Sorted array is: \", end=\"\\n\")\n",
        "\tprintList(arr)"
      ]
    },
    {
      "cell_type": "code",
      "execution_count": null,
      "metadata": {},
      "outputs": [],
      "source": [
        "def selectionsort(arr):\n",
        "    for i in range(len(arr)):\n",
        "        min_index = i\n",
        "        for j in range(i + 1, len(arr)):\n",
        "            if arr[j] < arr[min_index]:\n",
        "                min_index = j\n",
        "        arr[i], arr[min_index] = arr[min_index], arr[i]\n",
        "    return arr\n",
        "\n",
        "if __name__ == \"__main__\":\n",
        "    input_keys = list(map(int, input().split()))\n",
        "    print(selectionsort(input_keys))\n"
      ]
    },
    {
      "cell_type": "code",
      "execution_count": null,
      "metadata": {},
      "outputs": [],
      "source": [
        "def countingsort(arr):\n",
        "    max_index = max(arr)\n",
        "    count_list = [0] * (max_index + 1)\n",
        "\n",
        "    while len(arr) > 0:\n",
        "        number = arr.pop(0)\n",
        "        count_list[number] += 1\n",
        "\n",
        "    for i in range(len(count_list)):\n",
        "        while count_list[i] > 0:\n",
        "            arr.append(i)\n",
        "            count_list[i] -= 1\n",
        "\n",
        "    return arr\n",
        "\n",
        "unsortedArr = [9, 8, 9, 4, 2, 2, 6, 3, 3, 1, 6, 5, 2, 3]\n",
        "sortedArr = countingsort(unsortedArr)\n",
        "print(\"Sorted array:\", sortedArr)\n"
      ]
    },
    {
      "cell_type": "code",
      "execution_count": null,
      "metadata": {},
      "outputs": [],
      "source": [
        "def partition(arr, low, high):\n",
        "    pivot = arr[high]\n",
        "    i = low - 1\n",
        "\n",
        "    for j in range(low, high):\n",
        "        if arr[j] <= pivot:\n",
        "            i += 1\n",
        "            arr[i], arr[j] = arr[j], arr[i]\n",
        "\n",
        "    arr[i + 1], arr[high] = arr[high], arr[i + 1]\n",
        "    return i + 1\n",
        "\n",
        "def quicksort(arr, low=0, high=None):\n",
        "    if high is None:\n",
        "        high = len(arr) - 1\n",
        "    if low < high:\n",
        "        partition_index = partition(arr, low, high)\n",
        "        quicksort(arr, low, partition_index - 1)\n",
        "        quicksort(arr, partition_index + 1, high)\n",
        "\n",
        "my_array = [64, 34, 25, 12, 22, 11, 90, 5]\n",
        "quicksort(my_array)\n",
        "print(\"Sorted array:\", my_array)"
      ]
    }
  ],
  "metadata": {
    "colab": {
      "provenance": []
    },
    "kernelspec": {
      "display_name": "Python 3",
      "name": "python3"
    },
    "language_info": {
      "name": "python"
    }
  },
  "nbformat": 4,
  "nbformat_minor": 0
}
