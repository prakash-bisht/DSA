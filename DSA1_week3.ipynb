{
  "nbformat": 4,
  "nbformat_minor": 0,
  "metadata": {
    "colab": {
      "name": "DSA1_week3.ipynb",
      "provenance": [],
      "authorship_tag": "ABX9TyMzIfqCvEd9xQ/VEGtvKew0",
      "include_colab_link": true
    },
    "kernelspec": {
      "name": "python3",
      "display_name": "Python 3"
    },
    "language_info": {
      "name": "python"
    }
  },
  "cells": [
    {
      "cell_type": "markdown",
      "metadata": {
        "id": "view-in-github",
        "colab_type": "text"
      },
      "source": [
        "<a href=\"https://colab.research.google.com/github/prakash-noah/DSA/blob/main/DSA1_week3.ipynb\" target=\"_parent\"><img src=\"https://colab.research.google.com/assets/colab-badge.svg\" alt=\"Open In Colab\"/></a>"
      ]
    },
    {
      "cell_type": "code",
      "source": [
        "\"\"\"Task. The goal in this problem is to find the minimum number of coins needed to change the input value\n",
        "(an integer) into coins with denominations 1, 5, and 10.\n",
        "Input Format. The input consists of a single integer 𝑚.\n",
        "Constraints. 1 ≤ 𝑚 ≤ 103\n",
        ".\n",
        "Output Format. Output the minimum number of coins with denominations 1, 5, 10 that changes 𝑚.\n",
        "Sample 1.\n",
        "Input:\n",
        "2\n",
        "Output:\n",
        "2\n",
        "2 = 1 + 1.\n",
        "Sample 2.\n",
        "Input:\n",
        "28\n",
        "Output:\n",
        "6\n",
        "28 = 10 + 10 + 5 + 1 + 1 + 1.\"\"\""
      ],
      "metadata": {
        "id": "Mt7OnGjmMFVU"
      },
      "execution_count": null,
      "outputs": []
    },
    {
      "cell_type": "code",
      "source": [
        "import sys \n",
        "def get_change(n):\n",
        "  num_of_coins = 0 \n",
        "  while n != 0:\n",
        "    if n - 10 >= 0:\n",
        "      n -= 10 \n",
        "    elif n - 5 >= 0:\n",
        "      n -= 5\n",
        "    else:\n",
        "      n -= 1\n",
        "    num_of_coins += 1 \n",
        "  return num_of_coins \n",
        "if __name__ == \"__main__\":\n",
        "  n = int(sys.stdin.read())\n",
        "  print(get_change(n))"
      ],
      "metadata": {
        "id": "8LEKoVvGMFaQ"
      },
      "execution_count": null,
      "outputs": []
    },
    {
      "cell_type": "code",
      "source": [
        "\"\"\"Task. The goal of this code problem is to implement an algorithm for the fractional knapsack problem.\n",
        "Input Format. The first line of the input contains the number 𝑛 of items and the capacity 𝑊 of a knapsack.\n",
        "The next 𝑛 lines define the values and weights of the items. The 𝑖-th line contains integers 𝑣𝑖 and 𝑤𝑖—the\n",
        "value and the weight of 𝑖-th item, respectively.\n",
        "Constraints. 1 ≤ 𝑛 ≤ 103\n",
        ", 0 ≤ 𝑊 ≤ 2 · 106\n",
        "; 0 ≤ 𝑣𝑖 ≤ 2 · 106\n",
        ", 0 < 𝑤𝑖 ≤ 2 · 106\n",
        "for all 1 ≤ 𝑖 ≤ 𝑛. All the\n",
        "numbers are integers.\n",
        "Output Format. Output the maximal value of fractions of items that fit into the knapsack. The absolute\n",
        "value of the difference between the answer of your program and the optimal value should be at most\n",
        "10−3\n",
        ". To ensure this, output your answer with at least four digits after the decimal point (otherwise\n",
        "your answer, while being computed correctly, can turn out to be wrong because of rounding issues).\n",
        "Sample 1.\n",
        "Input:\n",
        "3 50\n",
        "60 20\n",
        "100 50\n",
        "120 30\n",
        "Output:\n",
        "180.0000\n",
        "To achieve the value 180, we take the first item and the third item into the bag.\n",
        "Sample 2.\n",
        "Input:\n",
        "1 10\n",
        "500 30\n",
        "Output:\n",
        "166.6667\n",
        "Here, we just take one third of the only available item.\"\"\"\n"
      ],
      "metadata": {
        "id": "t-KT81S4MFiK"
      },
      "execution_count": null,
      "outputs": []
    },
    {
      "cell_type": "code",
      "source": [
        "import sys\n",
        "def get_optimal_value(capacity, weights, values):\n",
        "    opt_value = 0.\n",
        "    # write your code here\n",
        "    items = list(zip(values,weights))\n",
        "    items.sort(key=lambda item : item[0] / item[1],reverse=True)\n",
        "    values = [item[0] for item in items]\n",
        "    weights = [item[1] for item in items]\n",
        "    for value,weight in zip(values,weights):\n",
        "        if capacity == 0:\n",
        "            return opt_value\n",
        "        min_weight = min(weight,capacity)\n",
        "        opt_value += min_weight * (value / weight) \n",
        "        weight -= min_weight \n",
        "        capacity -= min_weight \n",
        "    return opt_value\n",
        "\n",
        "\n",
        "if __name__ == \"__main__\":\n",
        "    data = list(map(int, sys.stdin.read().split()))\n",
        "    n, capacity = data[0:2]\n",
        "    values = data[2:(2 * n + 2):2]\n",
        "    weights = data[3:(2 * n + 2):2]\n",
        "    opt_value = get_optimal_value(capacity, weights, values)\n",
        "    print(\"{:.4f}\".format(opt_value))"
      ],
      "metadata": {
        "id": "Qod6PDauHWSi"
      },
      "execution_count": null,
      "outputs": []
    },
    {
      "cell_type": "code",
      "source": [
        "\"\"\"Input Format. The first line contains an integer 𝑑. The second line contains an integer 𝑚. The third line\n",
        "specifies an integer 𝑛. Finally, the last line contains integers stop1\n",
        ",stop2\n",
        ", . . . ,stop𝑛.\n",
        "Output Format. Assuming that the distance between the cities is 𝑑 miles, a car can travel at most 𝑚 miles\n",
        "on a full tank, and there are gas stations at distances stop1\n",
        ",stop2\n",
        ", . . . ,stop𝑛 along the way, output the\n",
        "minimum number of refills needed. Assume that the car starts with a full tank. If it is not possible to\n",
        "reach the destination, output −1.\n",
        "Constraints. 1 ≤ 𝑑 ≤ 105\n",
        ". 1 ≤ 𝑚 ≤ 400. 1 ≤ 𝑛 ≤ 300. 0 < stop1 < stop2 < · · · < stop𝑛 < 𝑑.\n",
        "Sample 1.\n",
        "Input:\n",
        "950\n",
        "400\n",
        "4\n",
        "200 375 550 750\n",
        "Output:\n",
        "2\n",
        "The distance between the cities is 950, the car can travel at most 400 miles on a full tank. It suffices\n",
        "to make two refills: at points 375 and 750. This is the minimum number of refills as with a single refill\n",
        "one would only be able to travel at most 800 miles.\"\"\"\n"
      ],
      "metadata": {
        "id": "X4FagTwuHWX0"
      },
      "execution_count": null,
      "outputs": []
    },
    {
      "cell_type": "code",
      "source": [
        "import sys \n",
        "def minrefills(x,n,l):\n",
        "  currentrefills = 0\n",
        "  numrefills = 0 \n",
        "  while currentrefills <= n:\n",
        "    lastrefills = currentrefills  \n",
        "    while (currentrefills <= n) and ((x[currentrefills+1] - x[lastrefills]) <= l):\n",
        "      currentrefills += 1\n",
        "    if lastrefills == currentrefills:\n",
        "      return None \n",
        "    if currentrefills <= n:\n",
        "      numrefills += 1\n",
        "  return numrefills \n",
        "if __name__ == '__main__':\n",
        "    *x,n,l = map(int, sys.stdin.read().split())\n",
        "    print(minrefills(x,n,l))"
      ],
      "metadata": {
        "id": "ly8EcCZVHWcP",
        "colab": {
          "base_uri": "https://localhost:8080/"
        },
        "outputId": "978ca870-0429-4e3e-aba1-e46fd09e347c"
      },
      "execution_count": null,
      "outputs": [
        {
          "output_type": "stream",
          "name": "stdout",
          "text": [
            "2\n"
          ]
        }
      ]
    },
    {
      "cell_type": "code",
      "source": [
        "\"\"\"Task. Given two sequences 𝑎1, 𝑎2, . . . , 𝑎𝑛 (𝑎𝑖\n",
        "is the profit per click of the 𝑖-th ad) and 𝑏1, 𝑏2, . . . , 𝑏𝑛 (𝑏𝑖\n",
        "is\n",
        "the average number of clicks per day of the 𝑖-th slot), we need to partition them into 𝑛 pairs (𝑎𝑖\n",
        ", 𝑏𝑗 )\n",
        "such that the sum of their products is maximized.\n",
        "Input Format. The first line contains an integer 𝑛, the second one contains a sequence of integers\n",
        "𝑎1, 𝑎2, . . . , 𝑎𝑛, the third one contains a sequence of integers 𝑏1, 𝑏2, . . . , 𝑏𝑛.\n",
        "Constraints. 1 ≤ 𝑛 ≤ 103\n",
        "; −105 ≤ 𝑎𝑖\n",
        ", 𝑏𝑖 ≤ 105\n",
        "for all 1 ≤ 𝑖 ≤ 𝑛.\n",
        "Output Format. Output the maximum value of ∑︀𝑛\n",
        "𝑖=1\n",
        "𝑎𝑖𝑐𝑖\n",
        ", where 𝑐1, 𝑐2, . . . , 𝑐𝑛 is a permutation of\n",
        "𝑏1, 𝑏2, . . . , 𝑏𝑛.\n",
        "Sample 1.\n",
        "Input:\n",
        "1\n",
        "23\n",
        "39\n",
        "Output:\n",
        "897\n",
        "897 = 23 · 39.\n",
        "Sample 2.\n",
        "Input:\n",
        "3\n",
        "1 3 -5\n",
        "-2 4 1\n",
        "Output:\n",
        "23\n",
        "23 = 3 · 4 + 1 · 1 + (−5) · (−2).\"\"\""
      ],
      "metadata": {
        "id": "pwqwkHNEHWfe"
      },
      "execution_count": null,
      "outputs": []
    },
    {
      "cell_type": "code",
      "source": [
        "import sys\n",
        "def min_dot_product(a, b):\n",
        "    a.sort()\n",
        "    b.sort()\n",
        "    res = 0\n",
        "    for i in range(len(a)):\n",
        "        res += a[i] * b[i]\n",
        "    return res\n",
        "\n",
        "if __name__ == '__main__':\n",
        "    input = sys.stdin.read()\n",
        "    data = list(map(int, input.split()))\n",
        "    n = data[0]\n",
        "    a = data[1:(n + 1)]\n",
        "    b = data[(n + 1):]\n",
        "    a.sort()\n",
        "    b.sort()\n",
        "    print(min_dot_product(a, b))"
      ],
      "metadata": {
        "id": "pq55-mYvHWkL"
      },
      "execution_count": null,
      "outputs": []
    },
    {
      "cell_type": "code",
      "source": [
        "\"\"\"Task. Given a set of 𝑛 segments {[𝑎0, 𝑏0], [𝑎1, 𝑏1], . . . , [𝑎𝑛−1, 𝑏𝑛−1]} with integer coordinates on a line, find\n",
        "the minimum number 𝑚 of points such that each segment contains at least one point. That is, find a\n",
        "set of integers 𝑋 of the minimum size such that for any segment [𝑎𝑖\n",
        ", 𝑏𝑖\n",
        "] there is a point 𝑥 ∈ 𝑋 such\n",
        "that 𝑎𝑖 ≤ 𝑥 ≤ 𝑏𝑖\n",
        ".\n",
        "Input Format. The first line of the input contains the number 𝑛 of segments. Each of the following 𝑛 lines\n",
        "contains two integers 𝑎𝑖 and 𝑏𝑖 (separated by a space) defining the coordinates of endpoints of the 𝑖-th\n",
        "segment.\n",
        "Constraints. 1 ≤ 𝑛 ≤ 100; 0 ≤ 𝑎𝑖 ≤ 𝑏𝑖 ≤ 109\n",
        "for all 0 ≤ 𝑖 < 𝑛.\n",
        "Output Format. Output the minimum number 𝑚 of points on the first line and the integer coordinates\n",
        "of 𝑚 points (separated by spaces) on the second line. You can output the points in any order. If there\n",
        "are many such sets of points, you can output any set. (It is not difficult to see that there always exist\n",
        "a set of points of the minimum size such that all the coordinates of the points are integers.)\n",
        "Sample 1.\n",
        "Input:\n",
        "3\n",
        "1 3\n",
        "2 5\n",
        "3 6\n",
        "Output:\n",
        "1\n",
        "3\n",
        "In this sample, we have three segments: [1, 3], [2, 5], [3, 6] (of length 2, 3, 3 respectively). All of them\n",
        "contain the point with coordinate 3: 1 ≤ 3 ≤ 3, 2 ≤ 3 ≤ 5, 3 ≤ 3 ≤ 6.\n",
        "8\n",
        "Sample 2.\n",
        "Input:\n",
        "4\n",
        "4 7\n",
        "1 3\n",
        "2 5\n",
        "5 6\n",
        "Output:\n",
        "2\n",
        "3 6\n",
        "The second and the third segments contain the point with coordinate 3 while the first and the fourth\n",
        "segments contain the point with coordinate 6. All the four segments cannot be covered by a single\n",
        "point, since the segments [1, 3] and [5, 6] are disjoint.\"\"\""
      ],
      "metadata": {
        "id": "RHlZwY8vMFl4"
      },
      "execution_count": null,
      "outputs": []
    },
    {
      "cell_type": "code",
      "source": [
        "import sys\n",
        "from collections import namedtuple\n",
        "\n",
        "Segment = namedtuple('Segment', 'start end')\n",
        "\n",
        "def optimal_points(segments):\n",
        "    points = []\n",
        "    #write your code here\n",
        "    sort = sorted(segments,key = lambda t : t[1])\n",
        "    point = sort[0].end\n",
        "    points.append(point)\n",
        "    for s in sort:\n",
        "      if s.start > point:\n",
        "        points.append(s.end)\n",
        "        point = s.end \n",
        "    return points\n",
        "\n",
        "if __name__ == '__main__':\n",
        "    input = sys.stdin.read()\n",
        "    n, *data = map(int, input.split())\n",
        "    segments = list(map(lambda x: Segment(x[0], x[1]), zip(data[::2], data[1::2])))\n",
        "    points = optimal_points(segments)\n",
        "    print(len(points))\n",
        "    print(*points)"
      ],
      "metadata": {
        "id": "2a2V_KPhhEj9"
      },
      "execution_count": null,
      "outputs": []
    },
    {
      "cell_type": "code",
      "source": [
        "\"\"\"Task. The goal of this problem is to represent a given positive integer 𝑛 as a sum of as many pairwise\n",
        "distinct positive integers as possible. That is, to find the maximum 𝑘 such that 𝑛 can be written as\n",
        "𝑎1 + 𝑎2 + · · · + 𝑎𝑘 where 𝑎1, . . . , 𝑎𝑘 are positive integers and 𝑎𝑖 ̸= 𝑎𝑗 for all 1 ≤ 𝑖 < 𝑗 ≤ 𝑘.\n",
        "Input Format. The input consists of a single integer 𝑛.\n",
        "Constraints. 1 ≤ 𝑛 ≤ 109\n",
        ".\n",
        "Output Format. In the first line, output the maximum number 𝑘 such that 𝑛 can be represented as a sum\n",
        "of 𝑘 pairwise distinct positive integers. In the second line, output 𝑘 pairwise distinct positive integers\n",
        "that sum up to 𝑛 (if there are many such representations, output any of them).\n",
        "Sample 1.\n",
        "Input:\n",
        "6\n",
        "Output:\n",
        "3\n",
        "1 2 3\n",
        "Sample 2.\n",
        "Input:\n",
        "8\n",
        "Output:\n",
        "3\n",
        "1 2 5\n",
        "Sample 3.\n",
        "Input:\n",
        "2\n",
        "Output:\n",
        "1\n",
        "2\"\"\"\n"
      ],
      "metadata": {
        "id": "xKrZqXWehEyk"
      },
      "execution_count": null,
      "outputs": []
    },
    {
      "cell_type": "code",
      "source": [
        "import sys\n",
        "def optimal_summands(n):\n",
        "    summands = []\n",
        "    #write your code here\n",
        "    m = 1\n",
        "    while n > 2 * m:\n",
        "      summands.append(m)\n",
        "      n -= m\n",
        "      m += 1\n",
        "    else:\n",
        "      summands.append(n)\n",
        "    return summands\n",
        "\n",
        "if __name__ == '__main__':\n",
        "    input = sys.stdin.read()\n",
        "    n = int(input)\n",
        "    summands = optimal_summands(n)\n",
        "    print(len(summands))\n",
        "    for x in summands:\n",
        "        print(x, end=' ')"
      ],
      "metadata": {
        "id": "D_L_qQbvhFBj"
      },
      "execution_count": null,
      "outputs": []
    },
    {
      "cell_type": "code",
      "source": [
        "\"\"\"Task. Compose the largest number out of a set of integers.\n",
        "Input Format. The first line of the input contains an integer 𝑛. The second line contains integers\n",
        "𝑎1, 𝑎2, . . . , 𝑎𝑛.\n",
        "Constraints. 1 ≤ 𝑛 ≤ 100; 1 ≤ 𝑎𝑖 ≤ 103\n",
        "for all 1 ≤ 𝑖 ≤ 𝑛.\n",
        "Output Format. Output the largest number that can be composed out of 𝑎1, 𝑎2, . . . , 𝑎𝑛.\n",
        "Sample 1.\n",
        "Input:\n",
        "2\n",
        "21 2\n",
        "Output:\n",
        "221\n",
        "Note that in this case the above algorithm also returns an incorrect answer 212.\n",
        "11\n",
        "Sample 2.\n",
        "Input:\n",
        "5\n",
        "9 4 6 1 9\n",
        "Output:\n",
        "99641\n",
        "In this case, the input consists of single-digit numbers only, so the algorithm above computes the right\n",
        "answer.\n",
        "Sample 3.\n",
        "Input:\n",
        "3\n",
        "23 39 92\n",
        "Output:\n",
        "923923\n",
        "As a coincidence, for this input the above algorithm produces the right result, though the input does\n",
        "not have any single-digit numbers.\"\"\"\n"
      ],
      "metadata": {
        "id": "6WiF8ZUMhFTQ"
      },
      "execution_count": null,
      "outputs": []
    },
    {
      "cell_type": "code",
      "source": [
        "import sys\n",
        "def isgreatorequal(a,b):\n",
        "    if a + b > b + a:\n",
        "        return int(a+b)>int(b+a)\n",
        "def largest_number(a):\n",
        "    #write your code here\n",
        "    res = \"\"\n",
        "    while len(a) > 0:\n",
        "        maxdigit = \"0\"\n",
        "        for x in a:\n",
        "            if isgreatorequal(x,maxdigit):\n",
        "                maxdigit = x\n",
        "        res += maxdigit\n",
        "        a.remove(maxdigit)\n",
        "    return res\n",
        "\n",
        "if __name__ == '__main__':\n",
        "    input = sys.stdin.read()\n",
        "    data = input.split()\n",
        "    a = data[1:]\n",
        "    print(largest_number(a))"
      ],
      "metadata": {
        "id": "vyxt3hufhFfA"
      },
      "execution_count": null,
      "outputs": []
    }
  ]
}